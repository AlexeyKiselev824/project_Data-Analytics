{
 "cells": [
  {
   "cell_type": "markdown",
   "id": "72e7cf38",
   "metadata": {},
   "source": [
    "# Описание проекта \"Разведывательный анализ данных\"\n",
    "## Цель проекта.\n",
    "Целью проекта является проведение разведывательного анализа данных, предложенного набора данных, для его подготовки к обучению и тестированию ML-проектов.\n",
    "## Задачи проекта.\n",
    "Для достижения поставленной цели необходимо решить следующие задачи.\n",
    "\n",
    "[1. Первичный осмотр данных.](#1)\n",
    "\n",
    "[2. Оценка распределения значений для количественных признаков, поиск и устранение ошибок/аномальных значений](#2)\n",
    "\n",
    "[3. Корреляционный анализ количественных признаков.](#3)\n",
    "\n",
    "[4. Визуальный анализ номинативных признаков, оценка количества уникальных значений.](#4)\n",
    "\n",
    "[5. t-test номинативных и смешанных переменных.](#5)\n",
    "\n",
    "[6. Заполнение пропусков.](#6)\n",
    "\n",
    "[7. Итоговый вывод](#7)"
   ]
  },
  {
   "cell_type": "markdown",
   "id": "8fab6a14",
   "metadata": {},
   "source": [
    "### Импорт библиотек и опциональные настройки"
   ]
  },
  {
   "cell_type": "code",
   "execution_count": 1,
   "id": "fcb3068a",
   "metadata": {},
   "outputs": [],
   "source": [
    "import random\n",
    "import pandas as pd\n",
    "import matplotlib.pyplot as plt\n",
    "import seaborn as sns\n",
    "from itertools import combinations\n",
    "from scipy.stats import ttest_ind\n",
    "import numpy as np\n",
    "import warnings\n",
    "warnings.simplefilter('ignore')\n",
    "\n",
    "pd.set_option('display.max_rows', 50)  # Показывать больше строк\n",
    "pd.set_option('display.max_columns', 50)  # Показывать больше колонок\n",
    "\n",
    "# Добавим метод чтобы красиво отображать текст\n",
    "from IPython.display import Markdown, display\n",
    "\n",
    "def printmd(string):\n",
    "    display(Markdown(string))"
   ]
  },
  {
   "cell_type": "markdown",
   "id": "b161aa82",
   "metadata": {},
   "source": [
    "### Загрузим наш датасет"
   ]
  },
  {
   "cell_type": "code",
   "execution_count": 2,
   "id": "1f5bddb8",
   "metadata": {},
   "outputs": [],
   "source": [
    "data = pd.read_csv('stud_math.csv')"
   ]
  },
  {
   "cell_type": "markdown",
   "id": "f9bffb06",
   "metadata": {},
   "source": [
    "### Определяем полезные функции"
   ]
  },
  {
   "cell_type": "code",
   "execution_count": 3,
   "id": "c583383f",
   "metadata": {},
   "outputs": [],
   "source": [
    "def first_look(df: pd.DataFrame, column: object, outlier_bounds: dict, descriptions: dict):\n",
    "    \"\"\"\n",
    "    Функция для осмотра переменных\n",
    "    \"\"\"\n",
    "    printmd('### ' + str(column))\n",
    "    if column in list(descriptions.keys()):\n",
    "        printmd(descriptions[column])\n",
    "    # Проверка на строковый тип данных\n",
    "    if df.loc[:, column].dtypes == np.dtype('O'):  # если 'O' - object\n",
    "        fig, ax = plt.subplots(figsize=(6, 5))\n",
    "        sns.countplot(df.loc[:, column], ax=ax)\n",
    "        plt.show()\n",
    "        # Print misses percent\n",
    "        misses = (1 - (df[column].count() / df.shape[0]))\n",
    "        print('Процент пропусков: ', round(misses * 100, 2), '%')\n",
    "    else:\n",
    "        # Prepare plot data frame\n",
    "        plot_df = pd.DataFrame({'Распределение': df[column]})\n",
    "        if search_mistakes(df, column, outlier_bounds):\n",
    "            low, high = IQR_outlier(df, column, verbose=False) # print в функции не нужен, поэтому отключаем verbose=False\n",
    "            plot_df['Распределение в границах выбросов'] = df.loc[df.loc[:, column].between(low, high)][column]\n",
    "        # Draw plot\n",
    "        fig, ax = plt.subplots(figsize=(7 * plot_df.shape[1], 4))\n",
    "        plot_df.hist(ax=ax)\n",
    "        plt.show()\n",
    "        # Print misses percent\n",
    "        misses = (1 - (df[column].count() / df.shape[0]))\n",
    "        print('Процент пропусков: ', round(misses * 100, 2), '%')\n",
    "\n",
    "\n",
    "def search_mistakes(df: pd.DataFrame, column: object, outlier_bounds: dict) -> bool:\n",
    "    \"\"\"\n",
    "    Функция проверяет переменные на наличие ошибок в данных\n",
    "    \"\"\"\n",
    "    if column not in list(outlier_bounds.keys()):\n",
    "        low, high = IQR_outlier(df, column, verbose=False)\n",
    "        if df[column].min() < low or df[column].max() > high:\n",
    "            out_df = df.loc[(~df.loc[:, column].between(\n",
    "            low, high)) & pd.notnull(df.loc[:, column])]\n",
    "            print('Найдены выбросы по IQR в количестве: ', out_df.shape[0])\n",
    "            if out_df.shape[0] > 10:\n",
    "                print('\\nПервые 10:')\n",
    "            display(out_df[:10])\n",
    "            return True\n",
    "        else:\n",
    "            print('Выбросы не обнаружены')\n",
    "    else:\n",
    "        low, high = outlier_bounds[column][0], outlier_bounds[column][1]\n",
    "        if df[column].min() < low or df[column].max() > high:\n",
    "            out_df = df.loc[(~df.loc[:, column].between(\n",
    "            low, high)) & pd.notnull(df.loc[:, column])]\n",
    "            print('Найдены ошибки в количестве: ', out_df.shape[0])\n",
    "            if out_df.shape[0] > 10:\n",
    "                print('\\nПервые 10:')\n",
    "            display(out_df[:10])\n",
    "            return True\n",
    "        else:\n",
    "            print('Ошибки не обнаружены')\n",
    "\n",
    "\n",
    "def IQR_outlier(df: pd.DataFrame, column: object, verbose: bool=True) -> tuple:\n",
    "    \"\"\"\n",
    "    Функция для отображения границ межквартильного размаха\n",
    "    \"\"\"\n",
    "    perc25 = df[column].quantile(0.25)\n",
    "    perc75 = df[column].quantile(0.75)\n",
    "    IQR = perc75 - perc25\n",
    "    low = perc25 - 1.5*IQR\n",
    "    high = perc75 + 1.5*IQR\n",
    "    if verbose:  # определяем выводить ли print\n",
    "        print('25-й перцентиль: {},'.format(perc25)[:-1],\n",
    "             '75-й перцентиль {},'.format(perc75),\n",
    "             'IQR: {},'.format(IQR),\n",
    "             'Границы выбросов: [{f}, {l}].'.format(f=low, l=high))\n",
    "    return (low, high)\n",
    "\n",
    "\n",
    "def fill_na(df: pd.DataFrame, column: object, method='auto') -> pd.Series:\n",
    "    \"\"\"\n",
    "    Функция для заполнения пропущенных значений\n",
    "    Варианты аргумента method:\n",
    "    mode - заполнение наиболее часто встречаемым значением\n",
    "    median - заполнение медианной\n",
    "    density - случайное заполнение с учетом вероятности появления\n",
    "    auto - для численных переменных медиана, для номинативных и смешанных density\n",
    "    \"\"\"\n",
    "    if method == 'auto':\n",
    "        if (df[column].dtypes == np.dtype('O')) and (df[column].nunique() < 10):\n",
    "            prob = df[column].value_counts(normalize=True)\n",
    "            ind = df[df[column].isna() == True].index\n",
    "            fill_list = pd.Series(random.choices(prob.index, prob, k=df[column].isna().sum()))\n",
    "            fill_list.index = ind\n",
    "            return df[column].fillna(fill_list)\n",
    "        else:\n",
    "            median = df[column].median()\n",
    "            return df[column].fillna(median)\n",
    "    elif method == 'mode':\n",
    "        mode = df[column].mode()[0]\n",
    "        return df[column].fillna(mode)\n",
    "    elif method == 'median':\n",
    "        median = df[column].median()\n",
    "        return df[column].fillna(median)\n",
    "    elif method == 'density':\n",
    "        prob = df[column].value_counts(normalize=True)\n",
    "        ind = df[df[column].isna() == True].index\n",
    "        fill_list = pd.Series(random.choices(prob.index, prob, k=df[column].isna().sum()))\n",
    "        fill_list.index = ind\n",
    "        return df[column].fillna(fill_list)\n",
    "    else:\n",
    "        raise NameError('method может принимать следующие значения: mode, median, density, auto')\n",
    "\n",
    "\n",
    "def get_boxplot(df: pd.DataFrame, column: object, ax_y='score') -> None:\n",
    "    \"\"\"\n",
    "    Функция для отображения boxplot-графиков для номинативных и смешанных переменных\n",
    "    \"\"\"\n",
    "    fig, ax = plt.subplots(figsize = (8, 4))\n",
    "    box_plot = sns.boxplot(x=column, y=ax_y, data=df, ax=ax)\n",
    "    cnt = df[column].value_counts()\n",
    "    medians = data.groupby([column])[ax_y].median()\n",
    "    vertical_offset = data.groupby([column])[ax_y].median() * 0.12\n",
    "    x = data[column].unique()\n",
    "    x = list(filter(lambda v: v == v, x))\n",
    "    if df.loc[:, col].dtypes != np.dtype('O'):\n",
    "        x = sorted(x)\n",
    "    for xtick, ytick in zip(list(box_plot.get_xticks()), x):\n",
    "        box_plot.text(xtick, medians.loc[ytick]-vertical_offset[ytick], cnt.loc[ytick],\n",
    "                     horizontalalignment='center', size=15, color='w', weight='semibold')\n",
    "    plt.xticks(rotation=45)\n",
    "    ax.set_title('Boxplot for ' + column)\n",
    "    plt.show()\n",
    "    \n",
    "\n",
    "def get_stat_dif(df: pd.DataFrame, column: object, target='score') -> bool:\n",
    "    \"\"\"\n",
    "    Функция для проведения теста Стьюдента для номинативных и смешанных переменных\n",
    "    \"\"\"\n",
    "    cols = df.loc[:, column].value_counts()\n",
    "    cols = cols[cols > 15].index  # Откидываем колонки в которых не достаточно данных для статистических выводов\n",
    "    combinations_all = list(combinations(cols, 2))\n",
    "    for comb in combinations_all:\n",
    "        if ttest_ind(df.loc[df.loc[:, column] == comb[0], target].dropna(),  # dropna() явным образом удалим пропуски\n",
    "                    df.loc[df.loc[:, column] == comb[1], target].dropna()).pvalue \\\n",
    "        <= 0.075/len(combinations_all):  # Порог на уровне 7.5%, поскольку используем поправку Бонферони \n",
    "            print('Найдены статисчтические значимые различия для колонки', column)\n",
    "            return True\n",
    "            break"
   ]
  },
  {
   "cell_type": "code",
   "execution_count": null,
   "id": "582ab27f",
   "metadata": {},
   "outputs": [],
   "source": []
  },
  {
   "cell_type": "markdown",
   "id": "c5177931",
   "metadata": {},
   "source": [
    "# 1. Первичный осмотр данных <a name=\"1\"></a>"
   ]
  },
  {
   "cell_type": "code",
   "execution_count": 4,
   "id": "c39d6ef7",
   "metadata": {
    "scrolled": true
   },
   "outputs": [
    {
     "data": {
      "text/html": [
       "<div>\n",
       "<style scoped>\n",
       "    .dataframe tbody tr th:only-of-type {\n",
       "        vertical-align: middle;\n",
       "    }\n",
       "\n",
       "    .dataframe tbody tr th {\n",
       "        vertical-align: top;\n",
       "    }\n",
       "\n",
       "    .dataframe thead th {\n",
       "        text-align: right;\n",
       "    }\n",
       "</style>\n",
       "<table border=\"1\" class=\"dataframe\">\n",
       "  <thead>\n",
       "    <tr style=\"text-align: right;\">\n",
       "      <th></th>\n",
       "      <th>school</th>\n",
       "      <th>sex</th>\n",
       "      <th>age</th>\n",
       "      <th>address</th>\n",
       "      <th>famsize</th>\n",
       "      <th>Pstatus</th>\n",
       "      <th>Medu</th>\n",
       "      <th>Fedu</th>\n",
       "      <th>Mjob</th>\n",
       "      <th>Fjob</th>\n",
       "      <th>reason</th>\n",
       "      <th>guardian</th>\n",
       "      <th>traveltime</th>\n",
       "      <th>studytime</th>\n",
       "      <th>failures</th>\n",
       "      <th>schoolsup</th>\n",
       "      <th>famsup</th>\n",
       "      <th>paid</th>\n",
       "      <th>activities</th>\n",
       "      <th>nursery</th>\n",
       "      <th>studytime, granular</th>\n",
       "      <th>higher</th>\n",
       "      <th>internet</th>\n",
       "      <th>romantic</th>\n",
       "      <th>famrel</th>\n",
       "      <th>freetime</th>\n",
       "      <th>goout</th>\n",
       "      <th>health</th>\n",
       "      <th>absences</th>\n",
       "      <th>score</th>\n",
       "    </tr>\n",
       "  </thead>\n",
       "  <tbody>\n",
       "    <tr>\n",
       "      <th>0</th>\n",
       "      <td>GP</td>\n",
       "      <td>F</td>\n",
       "      <td>18</td>\n",
       "      <td>U</td>\n",
       "      <td>NaN</td>\n",
       "      <td>A</td>\n",
       "      <td>4.0</td>\n",
       "      <td>4.0</td>\n",
       "      <td>at_home</td>\n",
       "      <td>teacher</td>\n",
       "      <td>course</td>\n",
       "      <td>mother</td>\n",
       "      <td>2.0</td>\n",
       "      <td>2.0</td>\n",
       "      <td>0.0</td>\n",
       "      <td>yes</td>\n",
       "      <td>no</td>\n",
       "      <td>no</td>\n",
       "      <td>no</td>\n",
       "      <td>yes</td>\n",
       "      <td>-6.0</td>\n",
       "      <td>yes</td>\n",
       "      <td>NaN</td>\n",
       "      <td>no</td>\n",
       "      <td>4.0</td>\n",
       "      <td>3.0</td>\n",
       "      <td>4.0</td>\n",
       "      <td>3.0</td>\n",
       "      <td>6.0</td>\n",
       "      <td>30.0</td>\n",
       "    </tr>\n",
       "    <tr>\n",
       "      <th>1</th>\n",
       "      <td>GP</td>\n",
       "      <td>F</td>\n",
       "      <td>17</td>\n",
       "      <td>U</td>\n",
       "      <td>GT3</td>\n",
       "      <td>NaN</td>\n",
       "      <td>1.0</td>\n",
       "      <td>1.0</td>\n",
       "      <td>at_home</td>\n",
       "      <td>other</td>\n",
       "      <td>course</td>\n",
       "      <td>father</td>\n",
       "      <td>1.0</td>\n",
       "      <td>2.0</td>\n",
       "      <td>0.0</td>\n",
       "      <td>no</td>\n",
       "      <td>yes</td>\n",
       "      <td>no</td>\n",
       "      <td>no</td>\n",
       "      <td>no</td>\n",
       "      <td>-6.0</td>\n",
       "      <td>yes</td>\n",
       "      <td>yes</td>\n",
       "      <td>no</td>\n",
       "      <td>5.0</td>\n",
       "      <td>3.0</td>\n",
       "      <td>3.0</td>\n",
       "      <td>3.0</td>\n",
       "      <td>4.0</td>\n",
       "      <td>30.0</td>\n",
       "    </tr>\n",
       "    <tr>\n",
       "      <th>2</th>\n",
       "      <td>GP</td>\n",
       "      <td>F</td>\n",
       "      <td>15</td>\n",
       "      <td>U</td>\n",
       "      <td>LE3</td>\n",
       "      <td>T</td>\n",
       "      <td>1.0</td>\n",
       "      <td>1.0</td>\n",
       "      <td>at_home</td>\n",
       "      <td>other</td>\n",
       "      <td>other</td>\n",
       "      <td>mother</td>\n",
       "      <td>1.0</td>\n",
       "      <td>2.0</td>\n",
       "      <td>3.0</td>\n",
       "      <td>yes</td>\n",
       "      <td>no</td>\n",
       "      <td>NaN</td>\n",
       "      <td>no</td>\n",
       "      <td>yes</td>\n",
       "      <td>-6.0</td>\n",
       "      <td>yes</td>\n",
       "      <td>yes</td>\n",
       "      <td>NaN</td>\n",
       "      <td>4.0</td>\n",
       "      <td>3.0</td>\n",
       "      <td>2.0</td>\n",
       "      <td>3.0</td>\n",
       "      <td>10.0</td>\n",
       "      <td>50.0</td>\n",
       "    </tr>\n",
       "    <tr>\n",
       "      <th>3</th>\n",
       "      <td>GP</td>\n",
       "      <td>F</td>\n",
       "      <td>15</td>\n",
       "      <td>U</td>\n",
       "      <td>GT3</td>\n",
       "      <td>T</td>\n",
       "      <td>4.0</td>\n",
       "      <td>2.0</td>\n",
       "      <td>health</td>\n",
       "      <td>NaN</td>\n",
       "      <td>home</td>\n",
       "      <td>mother</td>\n",
       "      <td>1.0</td>\n",
       "      <td>3.0</td>\n",
       "      <td>0.0</td>\n",
       "      <td>no</td>\n",
       "      <td>yes</td>\n",
       "      <td>yes</td>\n",
       "      <td>yes</td>\n",
       "      <td>yes</td>\n",
       "      <td>-9.0</td>\n",
       "      <td>yes</td>\n",
       "      <td>yes</td>\n",
       "      <td>yes</td>\n",
       "      <td>3.0</td>\n",
       "      <td>2.0</td>\n",
       "      <td>2.0</td>\n",
       "      <td>5.0</td>\n",
       "      <td>2.0</td>\n",
       "      <td>75.0</td>\n",
       "    </tr>\n",
       "    <tr>\n",
       "      <th>4</th>\n",
       "      <td>GP</td>\n",
       "      <td>F</td>\n",
       "      <td>16</td>\n",
       "      <td>U</td>\n",
       "      <td>GT3</td>\n",
       "      <td>T</td>\n",
       "      <td>3.0</td>\n",
       "      <td>3.0</td>\n",
       "      <td>other</td>\n",
       "      <td>other</td>\n",
       "      <td>home</td>\n",
       "      <td>father</td>\n",
       "      <td>1.0</td>\n",
       "      <td>2.0</td>\n",
       "      <td>0.0</td>\n",
       "      <td>no</td>\n",
       "      <td>yes</td>\n",
       "      <td>yes</td>\n",
       "      <td>no</td>\n",
       "      <td>yes</td>\n",
       "      <td>-6.0</td>\n",
       "      <td>yes</td>\n",
       "      <td>no</td>\n",
       "      <td>no</td>\n",
       "      <td>4.0</td>\n",
       "      <td>3.0</td>\n",
       "      <td>2.0</td>\n",
       "      <td>5.0</td>\n",
       "      <td>4.0</td>\n",
       "      <td>50.0</td>\n",
       "    </tr>\n",
       "  </tbody>\n",
       "</table>\n",
       "</div>"
      ],
      "text/plain": [
       "  school sex  age address famsize Pstatus  Medu  Fedu     Mjob     Fjob  \\\n",
       "0     GP   F   18       U     NaN       A   4.0   4.0  at_home  teacher   \n",
       "1     GP   F   17       U     GT3     NaN   1.0   1.0  at_home    other   \n",
       "2     GP   F   15       U     LE3       T   1.0   1.0  at_home    other   \n",
       "3     GP   F   15       U     GT3       T   4.0   2.0   health      NaN   \n",
       "4     GP   F   16       U     GT3       T   3.0   3.0    other    other   \n",
       "\n",
       "   reason guardian  traveltime  studytime  failures schoolsup famsup paid  \\\n",
       "0  course   mother         2.0        2.0       0.0       yes     no   no   \n",
       "1  course   father         1.0        2.0       0.0        no    yes   no   \n",
       "2   other   mother         1.0        2.0       3.0       yes     no  NaN   \n",
       "3    home   mother         1.0        3.0       0.0        no    yes  yes   \n",
       "4    home   father         1.0        2.0       0.0        no    yes  yes   \n",
       "\n",
       "  activities nursery  studytime, granular higher internet romantic  famrel  \\\n",
       "0         no     yes                 -6.0    yes      NaN       no     4.0   \n",
       "1         no      no                 -6.0    yes      yes       no     5.0   \n",
       "2         no     yes                 -6.0    yes      yes      NaN     4.0   \n",
       "3        yes     yes                 -9.0    yes      yes      yes     3.0   \n",
       "4         no     yes                 -6.0    yes       no       no     4.0   \n",
       "\n",
       "   freetime  goout  health  absences  score  \n",
       "0       3.0    4.0     3.0       6.0   30.0  \n",
       "1       3.0    3.0     3.0       4.0   30.0  \n",
       "2       3.0    2.0     3.0      10.0   50.0  \n",
       "3       2.0    2.0     5.0       2.0   75.0  \n",
       "4       3.0    2.0     5.0       4.0   50.0  "
      ]
     },
     "execution_count": 4,
     "metadata": {},
     "output_type": "execute_result"
    }
   ],
   "source": [
    "data.head()"
   ]
  },
  {
   "cell_type": "code",
   "execution_count": 5,
   "id": "d8b5bb0f",
   "metadata": {
    "scrolled": false
   },
   "outputs": [
    {
     "name": "stdout",
     "output_type": "stream",
     "text": [
      "<class 'pandas.core.frame.DataFrame'>\n",
      "RangeIndex: 395 entries, 0 to 394\n",
      "Data columns (total 30 columns):\n",
      " #   Column               Non-Null Count  Dtype  \n",
      "---  ------               --------------  -----  \n",
      " 0   school               395 non-null    object \n",
      " 1   sex                  395 non-null    object \n",
      " 2   age                  395 non-null    int64  \n",
      " 3   address              378 non-null    object \n",
      " 4   famsize              368 non-null    object \n",
      " 5   Pstatus              350 non-null    object \n",
      " 6   Medu                 392 non-null    float64\n",
      " 7   Fedu                 371 non-null    float64\n",
      " 8   Mjob                 376 non-null    object \n",
      " 9   Fjob                 359 non-null    object \n",
      " 10  reason               378 non-null    object \n",
      " 11  guardian             364 non-null    object \n",
      " 12  traveltime           367 non-null    float64\n",
      " 13  studytime            388 non-null    float64\n",
      " 14  failures             373 non-null    float64\n",
      " 15  schoolsup            386 non-null    object \n",
      " 16  famsup               356 non-null    object \n",
      " 17  paid                 355 non-null    object \n",
      " 18  activities           381 non-null    object \n",
      " 19  nursery              379 non-null    object \n",
      " 20  studytime, granular  388 non-null    float64\n",
      " 21  higher               375 non-null    object \n",
      " 22  internet             361 non-null    object \n",
      " 23  romantic             364 non-null    object \n",
      " 24  famrel               368 non-null    float64\n",
      " 25  freetime             384 non-null    float64\n",
      " 26  goout                387 non-null    float64\n",
      " 27  health               380 non-null    float64\n",
      " 28  absences             383 non-null    float64\n",
      " 29  score                389 non-null    float64\n",
      "dtypes: float64(12), int64(1), object(17)\n",
      "memory usage: 92.7+ KB\n"
     ]
    }
   ],
   "source": [
    "data.info()"
   ]
  },
  {
   "cell_type": "markdown",
   "id": "e2040fad",
   "metadata": {},
   "source": [
    "В датасете содержится информация о 395 учениках. Все столбцы, кроме первых 3-х (school, sex, age) имеют в значениях пропуски. Данные представлены в 30 столбцах, из них 17 столбцов имеют строковый тип, остальные 13 - числовой тип.\n",
    "\n",
    "Однако в числовые столбцы попали категориальные переменные, у которых значения закодированы числовым диапазоном.\n",
    "\n",
    "Поэтому по факту у нас есть только 3 истинно количественных переменных: age (непрерывная количественная), absences и score (дискретные количественные переменные), при этом score - целевая переменная."
   ]
  },
  {
   "cell_type": "code",
   "execution_count": 6,
   "id": "97da33e6",
   "metadata": {},
   "outputs": [],
   "source": [
    "# Приведем названия колонок к нормальному виду:\n",
    "data.columns = [i.lower() for i in data.columns]\n",
    "data.rename({'studytime, granular': 'studytime_granular'},\n",
    "            inplace=True, axis=1)"
   ]
  },
  {
   "cell_type": "code",
   "execution_count": 7,
   "id": "4633d25e",
   "metadata": {},
   "outputs": [
    {
     "name": "stdout",
     "output_type": "stream",
     "text": [
      "Дубликатов нет\n"
     ]
    }
   ],
   "source": [
    "# Проверим датасет на наличие дубликатов:\n",
    "if len(data) > len(data.drop_duplicates()):\n",
    "    print('Дубликаты есть')\n",
    "    display(data[data.duplicates()])\n",
    "else:\n",
    "    print('Дубликатов нет')"
   ]
  },
  {
   "cell_type": "code",
   "execution_count": 8,
   "id": "d1d94d99",
   "metadata": {
    "scrolled": false
   },
   "outputs": [
    {
     "data": {
      "text/plain": [
       "<AxesSubplot:>"
      ]
     },
     "execution_count": 8,
     "metadata": {},
     "output_type": "execute_result"
    },
    {
     "data": {
      "image/png": "[encoded data removed]",
      "text/plain": [
       "<Figure size 720x504 with 2 Axes>"
      ]
     },
     "metadata": {
      "needs_background": "light"
     },
     "output_type": "display_data"
    }
   ],
   "source": [
    "# Посмотрим как распределены пропуски по датасету:\n",
    "plt.figure(figsize=(10, 7))  # Размер тепловой карты\n",
    "sns.heatmap(data.isnull(), cmap='YlGnBu_r')"
   ]
  },
  {
   "cell_type": "markdown",
   "id": "dbfd81b3",
   "metadata": {},
   "source": [
    "Как видим, пропуски распределены равномерно по всему датасету. Какой-то концентрации в строках не видно. Значит удаление в качестве решения - не наш вариант."
   ]
  },
  {
   "cell_type": "code",
   "execution_count": 9,
   "id": "0ef9f2fa",
   "metadata": {},
   "outputs": [
    {
     "name": "stdout",
     "output_type": "stream",
     "text": [
      "Максимум незаполненых строк в датафрейме: 20.0 %\n"
     ]
    },
    {
     "data": {
      "text/html": [
       "<div>\n",
       "<style scoped>\n",
       "    .dataframe tbody tr th:only-of-type {\n",
       "        vertical-align: middle;\n",
       "    }\n",
       "\n",
       "    .dataframe tbody tr th {\n",
       "        vertical-align: top;\n",
       "    }\n",
       "\n",
       "    .dataframe thead th {\n",
       "        text-align: right;\n",
       "    }\n",
       "</style>\n",
       "<table border=\"1\" class=\"dataframe\">\n",
       "  <thead>\n",
       "    <tr style=\"text-align: right;\">\n",
       "      <th></th>\n",
       "      <th>Количество случаев</th>\n",
       "      <th>Количество пропусков в строке</th>\n",
       "      <th>Процент незаполненых значений в строке</th>\n",
       "    </tr>\n",
       "  </thead>\n",
       "  <tbody>\n",
       "    <tr>\n",
       "      <th>6</th>\n",
       "      <td>2</td>\n",
       "      <td>6</td>\n",
       "      <td>20.0 %</td>\n",
       "    </tr>\n",
       "    <tr>\n",
       "      <th>5</th>\n",
       "      <td>5</td>\n",
       "      <td>5</td>\n",
       "      <td>17.0 %</td>\n",
       "    </tr>\n",
       "    <tr>\n",
       "      <th>4</th>\n",
       "      <td>15</td>\n",
       "      <td>4</td>\n",
       "      <td>13.0 %</td>\n",
       "    </tr>\n",
       "    <tr>\n",
       "      <th>3</th>\n",
       "      <td>47</td>\n",
       "      <td>3</td>\n",
       "      <td>10.0 %</td>\n",
       "    </tr>\n",
       "    <tr>\n",
       "      <th>1</th>\n",
       "      <td>131</td>\n",
       "      <td>2</td>\n",
       "      <td>7.0 %</td>\n",
       "    </tr>\n",
       "    <tr>\n",
       "      <th>0</th>\n",
       "      <td>97</td>\n",
       "      <td>1</td>\n",
       "      <td>3.0 %</td>\n",
       "    </tr>\n",
       "    <tr>\n",
       "      <th>2</th>\n",
       "      <td>98</td>\n",
       "      <td>0</td>\n",
       "      <td>0.0 %</td>\n",
       "    </tr>\n",
       "  </tbody>\n",
       "</table>\n",
       "</div>"
      ],
      "text/plain": [
       "   Количество случаев  Количество пропусков в строке  \\\n",
       "6                   2                              6   \n",
       "5                   5                              5   \n",
       "4                  15                              4   \n",
       "3                  47                              3   \n",
       "1                 131                              2   \n",
       "0                  97                              1   \n",
       "2                  98                              0   \n",
       "\n",
       "  Процент незаполненых значений в строке  \n",
       "6                                 20.0 %  \n",
       "5                                 17.0 %  \n",
       "4                                 13.0 %  \n",
       "3                                 10.0 %  \n",
       "1                                  7.0 %  \n",
       "0                                  3.0 %  \n",
       "2                                  0.0 %  "
      ]
     },
     "execution_count": 9,
     "metadata": {},
     "output_type": "execute_result"
    }
   ],
   "source": [
    "# Проверим какое максимальное количество пропусков в строке:\n",
    "Count_rows = data.apply(lambda x: sum(x.isna()), axis=1).value_counts()\n",
    "percent_nans = round(pd.Series(Count_rows.index/data.shape[1] * 100)).sort_values(ascending=False).astype(str) + ' %'\n",
    "misses = max(data.apply(lambda x: sum(x.isna()), axis=1)) / data.shape[1]\n",
    "print(\"Максимум незаполненых строк в датафрейме:\", round(misses * 100, 2), \"%\")\n",
    "pd.DataFrame({\n",
    "    \"Количество случаев\": Count_rows,\n",
    "    \"Количество пропусков в строке\": Count_rows.index,\n",
    "    \"Процент незаполненых значений в строке\": percent_nans\n",
    "}).sort_values(\"Количество пропусков в строке\", ascending=False)"
   ]
  },
  {
   "cell_type": "markdown",
   "id": "a2558b26",
   "metadata": {},
   "source": [
    "Как видим процент не достаточно высок (>= 17% только в 7 случаях), чтобы принять решение об удалении отдельных строк."
   ]
  },
  {
   "cell_type": "code",
   "execution_count": 10,
   "id": "747de155",
   "metadata": {},
   "outputs": [
    {
     "data": {
      "image/png": "[encoded data removed]",
      "text/plain": [
       "<Figure size 720x576 with 1 Axes>"
      ]
     },
     "metadata": {
      "needs_background": "light"
     },
     "output_type": "display_data"
    }
   ],
   "source": [
    "# Считаем процент пропусков\n",
    "per_nans = pd.DataFrame(1 - data.count()/data.shape[0]).reset_index().rename(\n",
    "    {0: 'percent'}, axis=1).sort_values('percent', ascending=False).query('percent > 0')\n",
    "\n",
    "# Строим график относительного количества пропущенных значений:\n",
    "fig, ax = plt.subplots(figsize=(10, 8))\n",
    "bar_plot = sns.barplot(x='percent', y='index',\n",
    "                       data=per_nans, alpha=0.8, ci='None')\n",
    "for ytick in bar_plot.get_yticks():\n",
    "    bar_plot.text(per_nans.iloc[ytick][1] + 0.005, ytick + 0.2,\n",
    "                  str(round(per_nans.iloc[ytick][1] * 100, 2)) + ' %',\n",
    "                  horizontalalignment='center', size=10, color='black', weight='semibold')\n",
    "plt.title('Относительное количество пропусков')\n",
    "plt.ylabel('')\n",
    "plt.xlabel('Percent', fontsize=12)\n",
    "plt.show()"
   ]
  },
  {
   "cell_type": "markdown",
   "id": "085d01dc",
   "metadata": {},
   "source": [
    "Как мы видим количество пропусков не большое. Так же стоит отметить, что в целевой score переменой так же присутствуют пропуски"
   ]
  },
  {
   "cell_type": "markdown",
   "id": "388ab6dd",
   "metadata": {},
   "source": [
    "# 2. Оценка распределения значений для количественных признаков, поиск и устранение ошибок/аномальных значений <a name=\"2\"></a>"
   ]
  },
  {
   "cell_type": "code",
   "execution_count": 11,
   "id": "95509292",
   "metadata": {},
   "outputs": [],
   "source": [
    "# Объявим словарь описаний полей, для дальнейшего использования при анализе\n",
    "descriptions = {\n",
    "    \"school\": \"аббревиатура школы, в которой учится ученик\",\n",
    "    \"sex\": \"пол ученика ('F' - женский, 'M' - мужской)\",\n",
    "    \"age\": \"возраст ученика (от 15 до 22)\",\n",
    "    \"address\": \"тип адреса ученика ('U' - городской, 'R' - за городом)\",\n",
    "    \"famsize\": \"размер семьи('LE3' <= 3, 'GT3' >3)\",\n",
    "    \"pstatus\": \"статус совместного жилья родителей ('T' - живут вместе 'A' - раздельно)\",\n",
    "    \"medu\": \"образование матери (0 - нет, 1 - 4 класса, 2 - 5-9 классы, 3 - среднее специальное или 11 классов, 4 - высшее)\",\n",
    "    \"fedu\": \"образование отца (0 - нет, 1 - 4 класса, 2 - 5-9 классы, 3 - среднее специальное или 11 классов, 4 - высшее)\",\n",
    "    \"mjob\": \"работа матери ('teacher' - учитель, 'health' - сфера здравоохранения, 'services' - гос служба, 'at_home' - не работает, 'other' - другое)\",\n",
    "    \"fjob\": \"работа отца ('teacher' - учитель, 'health' - сфера здравоохранения, 'services' - гос служба, 'at_home' - не работает, 'other' - другое)\",\n",
    "    \"reason\": \"причина выбора школы ('home' - близость к дому, 'reputation' - репутация школы, 'course' - образовательная программа, 'other' - другое)\",\n",
    "    \"guardian\": \" опекун ('mother' - мать, 'father' - отец, 'other' - другое)\",\n",
    "    \"traveltime\": \"время в пути до школы (1 - <15 мин., 2 - 15-30 мин., 3 - 30-60 мин., 4 - >60 мин.)\",\n",
    "    \"studytime\": \"время на учёбу помимо школы в неделю (1 - <2 часов, 2 - 2-5 часов, 3 - 5-10 часов, 4 - >10 часов)\",\n",
    "    \"failures\": \"количество внеучебных неудач (n, если 1<=n<=3, иначе 0)\",\n",
    "    \"schoolsup\": \"дополнительная образовательная поддержка (yes или no)\",\n",
    "    \"famsup\": \"семейная образовательная поддержка (yes или no)\",\n",
    "    \"paid\": \"дополнительные платные занятия по математике (yes или no)\",\n",
    "    \"activities\": \"дополнительные внеучебные занятия (yes или no)\",\n",
    "    \"nursery\": \"посещал детский сад (yes или no)\",\n",
    "    \"studytime_granular\": \"нет описания\",\n",
    "    \"higher\": \"хочет получить высшее образование (yes или no)\",\n",
    "    \"internet\": \"наличие интернета дома (yes или no)\",\n",
    "    \"romantic\": \"в романтических отношениях (yes или no)\",\n",
    "    \"famrel\": \"семейные отношения (от 1 - очень плохо до 5 - очень хорошо)\",\n",
    "    \"freetime\": \"свободное время после школы (от 1 - очень мало до 5 - очень мого)\",\n",
    "    \"goout\": \"проведение времени с друзьями (от 1 - очень мало до 5 - очень много)\",\n",
    "    \"health\": \"текущее состояние здоровья (от 1 - очень плохо до 5 - очень хорошо)\",\n",
    "    \"absences\": \"количество пропущенных занятий\",\n",
    "    \"score\": \"баллы по госэкзамену по математике\"\n",
    "}"
   ]
  },
  {
   "cell_type": "code",
   "execution_count": 12,
   "id": "205a176d",
   "metadata": {},
   "outputs": [],
   "source": [
    "# Определим словарь с границами данных по условию:\n",
    "outline_bounds = {\n",
    "    \"age\": [15, 22],\n",
    "    \"medu\": [0, 4],\n",
    "    \"fedu\": [0, 4],\n",
    "    \"traveltime\": [1, 4],\n",
    "    \"studytime\": [1, 4],\n",
    "    \"failures\": [0, 3],\n",
    "    \"famrel\": [1, 5],\n",
    "    \"freetime\": [1, 5],\n",
    "    \"goout\": [1, 5],\n",
    "    \"health\": [1, 5],\n",
    "    \"score\": [0, 100]\n",
    "}"
   ]
  },
  {
   "cell_type": "code",
   "execution_count": 13,
   "id": "466512b6",
   "metadata": {
    "scrolled": false
   },
   "outputs": [
    {
     "data": {
      "text/markdown": [
       "### school"
      ],
      "text/plain": [
       "<IPython.core.display.Markdown object>"
      ]
     },
     "metadata": {},
     "output_type": "display_data"
    },
    {
     "data": {
      "text/markdown": [
       "аббревиатура школы, в которой учится ученик"
      ],
      "text/plain": [
       "<IPython.core.display.Markdown object>"
      ]
     },
     "metadata": {},
     "output_type": "display_data"
    },
    {
     "data": {
      "image/png": "[encoded data removed]",
      "text/plain": [
       "<Figure size 432x360 with 1 Axes>"
      ]
     },
     "metadata": {
      "needs_background": "light"
     },
     "output_type": "display_data"
    },
    {
     "name": "stdout",
     "output_type": "stream",
     "text": [
      "Процент пропусков:  0.0 %\n"
     ]
    },
    {
     "data": {
      "text/markdown": [
       "### sex"
      ],
      "text/plain": [
       "<IPython.core.display.Markdown object>"
      ]
     },
     "metadata": {},
     "output_type": "display_data"
    },
    {
     "data": {
      "text/markdown": [
       "пол ученика ('F' - женский, 'M' - мужской)"
      ],
      "text/plain": [
       "<IPython.core.display.Markdown object>"
      ]
     },
     "metadata": {},
     "output_type": "display_data"
    },
    {
     "data": {
      "image/png": "[encoded data removed]",
      "text/plain": [
       "<Figure size 432x360 with 1 Axes>"
      ]
     },
     "metadata": {
      "needs_background": "light"
     },
     "output_type": "display_data"
    },
    {
     "name": "stdout",
     "output_type": "stream",
     "text": [
      "Процент пропусков:  0.0 %\n"
     ]
    },
    {
     "data": {
      "text/markdown": [
       "### age"
      ],
      "text/plain": [
       "<IPython.core.display.Markdown object>"
      ]
     },
     "metadata": {},
     "output_type": "display_data"
    },
    {
     "data": {
      "text/markdown": [
       "возраст ученика (от 15 до 22)"
      ],
      "text/plain": [
       "<IPython.core.display.Markdown object>"
      ]
     },
     "metadata": {},
     "output_type": "display_data"
    },
    {
     "name": "stdout",
     "output_type": "stream",
     "text": [
      "Ошибки не обнаружены\n"
     ]
    },
    {
     "data": {
      "image/png": "[encoded data removed]",
      "text/plain": [
       "<Figure size 504x288 with 1 Axes>"
      ]
     },
     "metadata": {
      "needs_background": "light"
     },
     "output_type": "display_data"
    },
    {
     "name": "stdout",
     "output_type": "stream",
     "text": [
      "Процент пропусков:  0.0 %\n"
     ]
    },
    {
     "data": {
      "text/markdown": [
       "### address"
      ],
      "text/plain": [
       "<IPython.core.display.Markdown object>"
      ]
     },
     "metadata": {},
     "output_type": "display_data"
    },
    {
     "data": {
      "text/markdown": [
       "тип адреса ученика ('U' - городской, 'R' - за городом)"
      ],
      "text/plain": [
       "<IPython.core.display.Markdown object>"
      ]
     },
     "metadata": {},
     "output_type": "display_data"
    },
    {
     "data": {
      "image/png": "[encoded data removed]",
      "text/plain": [
       "<Figure size 432x360 with 1 Axes>"
      ]
     },
     "metadata": {
      "needs_background": "light"
     },
     "output_type": "display_data"
    },
    {
     "name": "stdout",
     "output_type": "stream",
     "text": [
      "Процент пропусков:  4.3 %\n"
     ]
    },
    {
     "data": {
      "text/markdown": [
       "### famsize"
      ],
      "text/plain": [
       "<IPython.core.display.Markdown object>"
      ]
     },
     "metadata": {},
     "output_type": "display_data"
    },
    {
     "data": {
      "text/markdown": [
       "размер семьи('LE3' <= 3, 'GT3' >3)"
      ],
      "text/plain": [
       "<IPython.core.display.Markdown object>"
      ]
     },
     "metadata": {},
     "output_type": "display_data"
    },
    {
     "data": {
      "image/png": "[encoded data removed]",
      "text/plain": [
       "<Figure size 432x360 with 1 Axes>"
      ]
     },
     "metadata": {
      "needs_background": "light"
     },
     "output_type": "display_data"
    },
    {
     "name": "stdout",
     "output_type": "stream",
     "text": [
      "Процент пропусков:  6.84 %\n"
     ]
    },
    {
     "data": {
      "text/markdown": [
       "### pstatus"
      ],
      "text/plain": [
       "<IPython.core.display.Markdown object>"
      ]
     },
     "metadata": {},
     "output_type": "display_data"
    },
    {
     "data": {
      "text/markdown": [
       "статус совместного жилья родителей ('T' - живут вместе 'A' - раздельно)"
      ],
      "text/plain": [
       "<IPython.core.display.Markdown object>"
      ]
     },
     "metadata": {},
     "output_type": "display_data"
    },
    {
     "data": {
      "image/png": "[encoded data removed]",
      "text/plain": [
       "<Figure size 432x360 with 1 Axes>"
      ]
     },
     "metadata": {
      "needs_background": "light"
     },
     "output_type": "display_data"
    },
    {
     "name": "stdout",
     "output_type": "stream",
     "text": [
      "Процент пропусков:  11.39 %\n"
     ]
    },
    {
     "data": {
      "text/markdown": [
       "### medu"
      ],
      "text/plain": [
       "<IPython.core.display.Markdown object>"
      ]
     },
     "metadata": {},
     "output_type": "display_data"
    },
    {
     "data": {
      "text/markdown": [
       "образование матери (0 - нет, 1 - 4 класса, 2 - 5-9 классы, 3 - среднее специальное или 11 классов, 4 - высшее)"
      ],
      "text/plain": [
       "<IPython.core.display.Markdown object>"
      ]
     },
     "metadata": {},
     "output_type": "display_data"
    },
    {
     "name": "stdout",
     "output_type": "stream",
     "text": [
      "Ошибки не обнаружены\n"
     ]
    },
    {
     "data": {
      "image/png": "[encoded data removed]",
      "text/plain": [
       "<Figure size 504x288 with 1 Axes>"
      ]
     },
     "metadata": {
      "needs_background": "light"
     },
     "output_type": "display_data"
    },
    {
     "name": "stdout",
     "output_type": "stream",
     "text": [
      "Процент пропусков:  0.76 %\n"
     ]
    },
    {
     "data": {
      "text/markdown": [
       "### fedu"
      ],
      "text/plain": [
       "<IPython.core.display.Markdown object>"
      ]
     },
     "metadata": {},
     "output_type": "display_data"
    },
    {
     "data": {
      "text/markdown": [
       "образование отца (0 - нет, 1 - 4 класса, 2 - 5-9 классы, 3 - среднее специальное или 11 классов, 4 - высшее)"
      ],
      "text/plain": [
       "<IPython.core.display.Markdown object>"
      ]
     },
     "metadata": {},
     "output_type": "display_data"
    },
    {
     "name": "stdout",
     "output_type": "stream",
     "text": [
      "Найдены ошибки в количестве:  1\n"
     ]
    },
    {
     "data": {
      "text/html": [
       "<div>\n",
       "<style scoped>\n",
       "    .dataframe tbody tr th:only-of-type {\n",
       "        vertical-align: middle;\n",
       "    }\n",
       "\n",
       "    .dataframe tbody tr th {\n",
       "        vertical-align: top;\n",
       "    }\n",
       "\n",
       "    .dataframe thead th {\n",
       "        text-align: right;\n",
       "    }\n",
       "</style>\n",
       "<table border=\"1\" class=\"dataframe\">\n",
       "  <thead>\n",
       "    <tr style=\"text-align: right;\">\n",
       "      <th></th>\n",
       "      <th>school</th>\n",
       "      <th>sex</th>\n",
       "      <th>age</th>\n",
       "      <th>address</th>\n",
       "      <th>famsize</th>\n",
       "      <th>pstatus</th>\n",
       "      <th>medu</th>\n",
       "      <th>fedu</th>\n",
       "      <th>mjob</th>\n",
       "      <th>fjob</th>\n",
       "      <th>reason</th>\n",
       "      <th>guardian</th>\n",
       "      <th>traveltime</th>\n",
       "      <th>studytime</th>\n",
       "      <th>failures</th>\n",
       "      <th>schoolsup</th>\n",
       "      <th>famsup</th>\n",
       "      <th>paid</th>\n",
       "      <th>activities</th>\n",
       "      <th>nursery</th>\n",
       "      <th>studytime_granular</th>\n",
       "      <th>higher</th>\n",
       "      <th>internet</th>\n",
       "      <th>romantic</th>\n",
       "      <th>famrel</th>\n",
       "      <th>freetime</th>\n",
       "      <th>goout</th>\n",
       "      <th>health</th>\n",
       "      <th>absences</th>\n",
       "      <th>score</th>\n",
       "    </tr>\n",
       "  </thead>\n",
       "  <tbody>\n",
       "    <tr>\n",
       "      <th>11</th>\n",
       "      <td>GP</td>\n",
       "      <td>F</td>\n",
       "      <td>15</td>\n",
       "      <td>U</td>\n",
       "      <td>GT3</td>\n",
       "      <td>NaN</td>\n",
       "      <td>2.0</td>\n",
       "      <td>40.0</td>\n",
       "      <td>services</td>\n",
       "      <td>other</td>\n",
       "      <td>reputation</td>\n",
       "      <td>father</td>\n",
       "      <td>3.0</td>\n",
       "      <td>3.0</td>\n",
       "      <td>0.0</td>\n",
       "      <td>no</td>\n",
       "      <td>yes</td>\n",
       "      <td>no</td>\n",
       "      <td>yes</td>\n",
       "      <td>yes</td>\n",
       "      <td>-9.0</td>\n",
       "      <td>yes</td>\n",
       "      <td>yes</td>\n",
       "      <td>no</td>\n",
       "      <td>5.0</td>\n",
       "      <td>2.0</td>\n",
       "      <td>2.0</td>\n",
       "      <td>4.0</td>\n",
       "      <td>4.0</td>\n",
       "      <td>60.0</td>\n",
       "    </tr>\n",
       "  </tbody>\n",
       "</table>\n",
       "</div>"
      ],
      "text/plain": [
       "   school sex  age address famsize pstatus  medu  fedu      mjob   fjob  \\\n",
       "11     GP   F   15       U     GT3     NaN   2.0  40.0  services  other   \n",
       "\n",
       "        reason guardian  traveltime  studytime  failures schoolsup famsup  \\\n",
       "11  reputation   father         3.0        3.0       0.0        no    yes   \n",
       "\n",
       "   paid activities nursery  studytime_granular higher internet romantic  \\\n",
       "11   no        yes     yes                -9.0    yes      yes       no   \n",
       "\n",
       "    famrel  freetime  goout  health  absences  score  \n",
       "11     5.0       2.0    2.0     4.0       4.0   60.0  "
      ]
     },
     "metadata": {},
     "output_type": "display_data"
    },
    {
     "data": {
      "image/png": "[encoded data removed]",
      "text/plain": [
       "<Figure size 1008x288 with 2 Axes>"
      ]
     },
     "metadata": {
      "needs_background": "light"
     },
     "output_type": "display_data"
    },
    {
     "name": "stdout",
     "output_type": "stream",
     "text": [
      "Процент пропусков:  6.08 %\n"
     ]
    },
    {
     "data": {
      "text/markdown": [
       "### mjob"
      ],
      "text/plain": [
       "<IPython.core.display.Markdown object>"
      ]
     },
     "metadata": {},
     "output_type": "display_data"
    },
    {
     "data": {
      "text/markdown": [
       "работа матери ('teacher' - учитель, 'health' - сфера здравоохранения, 'services' - гос служба, 'at_home' - не работает, 'other' - другое)"
      ],
      "text/plain": [
       "<IPython.core.display.Markdown object>"
      ]
     },
     "metadata": {},
     "output_type": "display_data"
    },
    {
     "data": {
      "image/png": "[encoded data removed]",
      "text/plain": [
       "<Figure size 432x360 with 1 Axes>"
      ]
     },
     "metadata": {
      "needs_background": "light"
     },
     "output_type": "display_data"
    },
    {
     "name": "stdout",
     "output_type": "stream",
     "text": [
      "Процент пропусков:  4.81 %\n"
     ]
    },
    {
     "data": {
      "text/markdown": [
       "### fjob"
      ],
      "text/plain": [
       "<IPython.core.display.Markdown object>"
      ]
     },
     "metadata": {},
     "output_type": "display_data"
    },
    {
     "data": {
      "text/markdown": [
       "работа отца ('teacher' - учитель, 'health' - сфера здравоохранения, 'services' - гос служба, 'at_home' - не работает, 'other' - другое)"
      ],
      "text/plain": [
       "<IPython.core.display.Markdown object>"
      ]
     },
     "metadata": {},
     "output_type": "display_data"
    },
    {
     "data": {
      "image/png": "[encoded data removed]",
      "text/plain": [
       "<Figure size 432x360 with 1 Axes>"
      ]
     },
     "metadata": {
      "needs_background": "light"
     },
     "output_type": "display_data"
    },
    {
     "name": "stdout",
     "output_type": "stream",
     "text": [
      "Процент пропусков:  9.11 %\n"
     ]
    },
    {
     "data": {
      "text/markdown": [
       "### reason"
      ],
      "text/plain": [
       "<IPython.core.display.Markdown object>"
      ]
     },
     "metadata": {},
     "output_type": "display_data"
    },
    {
     "data": {
      "text/markdown": [
       "причина выбора школы ('home' - близость к дому, 'reputation' - репутация школы, 'course' - образовательная программа, 'other' - другое)"
      ],
      "text/plain": [
       "<IPython.core.display.Markdown object>"
      ]
     },
     "metadata": {},
     "output_type": "display_data"
    },
    {
     "data": {
      "image/png": "[encoded data removed]",
      "text/plain": [
       "<Figure size 432x360 with 1 Axes>"
      ]
     },
     "metadata": {
      "needs_background": "light"
     },
     "output_type": "display_data"
    },
    {
     "name": "stdout",
     "output_type": "stream",
     "text": [
      "Процент пропусков:  4.3 %\n"
     ]
    },
    {
     "data": {
      "text/markdown": [
       "### guardian"
      ],
      "text/plain": [
       "<IPython.core.display.Markdown object>"
      ]
     },
     "metadata": {},
     "output_type": "display_data"
    },
    {
     "data": {
      "text/markdown": [
       " опекун ('mother' - мать, 'father' - отец, 'other' - другое)"
      ],
      "text/plain": [
       "<IPython.core.display.Markdown object>"
      ]
     },
     "metadata": {},
     "output_type": "display_data"
    },
    {
     "data": {
      "image/png": "[encoded data removed]",
      "text/plain": [
       "<Figure size 432x360 with 1 Axes>"
      ]
     },
     "metadata": {
      "needs_background": "light"
     },
     "output_type": "display_data"
    },
    {
     "name": "stdout",
     "output_type": "stream",
     "text": [
      "Процент пропусков:  7.85 %\n"
     ]
    },
    {
     "data": {
      "text/markdown": [
       "### traveltime"
      ],
      "text/plain": [
       "<IPython.core.display.Markdown object>"
      ]
     },
     "metadata": {},
     "output_type": "display_data"
    },
    {
     "data": {
      "text/markdown": [
       "время в пути до школы (1 - <15 мин., 2 - 15-30 мин., 3 - 30-60 мин., 4 - >60 мин.)"
      ],
      "text/plain": [
       "<IPython.core.display.Markdown object>"
      ]
     },
     "metadata": {},
     "output_type": "display_data"
    },
    {
     "name": "stdout",
     "output_type": "stream",
     "text": [
      "Ошибки не обнаружены\n"
     ]
    },
    {
     "data": {
      "image/png": "[encoded data removed]",
      "text/plain": [
       "<Figure size 504x288 with 1 Axes>"
      ]
     },
     "metadata": {
      "needs_background": "light"
     },
     "output_type": "display_data"
    },
    {
     "name": "stdout",
     "output_type": "stream",
     "text": [
      "Процент пропусков:  7.09 %\n"
     ]
    },
    {
     "data": {
      "text/markdown": [
       "### studytime"
      ],
      "text/plain": [
       "<IPython.core.display.Markdown object>"
      ]
     },
     "metadata": {},
     "output_type": "display_data"
    },
    {
     "data": {
      "text/markdown": [
       "время на учёбу помимо школы в неделю (1 - <2 часов, 2 - 2-5 часов, 3 - 5-10 часов, 4 - >10 часов)"
      ],
      "text/plain": [
       "<IPython.core.display.Markdown object>"
      ]
     },
     "metadata": {},
     "output_type": "display_data"
    },
    {
     "name": "stdout",
     "output_type": "stream",
     "text": [
      "Ошибки не обнаружены\n"
     ]
    },
    {
     "data": {
      "image/png": "[encoded data removed]",
      "text/plain": [
       "<Figure size 504x288 with 1 Axes>"
      ]
     },
     "metadata": {
      "needs_background": "light"
     },
     "output_type": "display_data"
    },
    {
     "name": "stdout",
     "output_type": "stream",
     "text": [
      "Процент пропусков:  1.77 %\n"
     ]
    },
    {
     "data": {
      "text/markdown": [
       "### failures"
      ],
      "text/plain": [
       "<IPython.core.display.Markdown object>"
      ]
     },
     "metadata": {},
     "output_type": "display_data"
    },
    {
     "data": {
      "text/markdown": [
       "количество внеучебных неудач (n, если 1<=n<=3, иначе 0)"
      ],
      "text/plain": [
       "<IPython.core.display.Markdown object>"
      ]
     },
     "metadata": {},
     "output_type": "display_data"
    },
    {
     "name": "stdout",
     "output_type": "stream",
     "text": [
      "Ошибки не обнаружены\n"
     ]
    },
    {
     "data": {
      "image/png": "[encoded data removed]",
      "text/plain": [
       "<Figure size 504x288 with 1 Axes>"
      ]
     },
     "metadata": {
      "needs_background": "light"
     },
     "output_type": "display_data"
    },
    {
     "name": "stdout",
     "output_type": "stream",
     "text": [
      "Процент пропусков:  5.57 %\n"
     ]
    },
    {
     "data": {
      "text/markdown": [
       "### schoolsup"
      ],
      "text/plain": [
       "<IPython.core.display.Markdown object>"
      ]
     },
     "metadata": {},
     "output_type": "display_data"
    },
    {
     "data": {
      "text/markdown": [
       "дополнительная образовательная поддержка (yes или no)"
      ],
      "text/plain": [
       "<IPython.core.display.Markdown object>"
      ]
     },
     "metadata": {},
     "output_type": "display_data"
    },
    {
     "data": {
      "image/png": "[encoded data removed]",
      "text/plain": [
       "<Figure size 432x360 with 1 Axes>"
      ]
     },
     "metadata": {
      "needs_background": "light"
     },
     "output_type": "display_data"
    },
    {
     "name": "stdout",
     "output_type": "stream",
     "text": [
      "Процент пропусков:  2.28 %\n"
     ]
    },
    {
     "data": {
      "text/markdown": [
       "### famsup"
      ],
      "text/plain": [
       "<IPython.core.display.Markdown object>"
      ]
     },
     "metadata": {},
     "output_type": "display_data"
    },
    {
     "data": {
      "text/markdown": [
       "семейная образовательная поддержка (yes или no)"
      ],
      "text/plain": [
       "<IPython.core.display.Markdown object>"
      ]
     },
     "metadata": {},
     "output_type": "display_data"
    },
    {
     "data": {
      "image/png": "[encoded data removed]",
      "text/plain": [
       "<Figure size 432x360 with 1 Axes>"
      ]
     },
     "metadata": {
      "needs_background": "light"
     },
     "output_type": "display_data"
    },
    {
     "name": "stdout",
     "output_type": "stream",
     "text": [
      "Процент пропусков:  9.87 %\n"
     ]
    },
    {
     "data": {
      "text/markdown": [
       "### paid"
      ],
      "text/plain": [
       "<IPython.core.display.Markdown object>"
      ]
     },
     "metadata": {},
     "output_type": "display_data"
    },
    {
     "data": {
      "text/markdown": [
       "дополнительные платные занятия по математике (yes или no)"
      ],
      "text/plain": [
       "<IPython.core.display.Markdown object>"
      ]
     },
     "metadata": {},
     "output_type": "display_data"
    },
    {
     "data": {
      "image/png": "[encoded data removed]",
      "text/plain": [
       "<Figure size 432x360 with 1 Axes>"
      ]
     },
     "metadata": {
      "needs_background": "light"
     },
     "output_type": "display_data"
    },
    {
     "name": "stdout",
     "output_type": "stream",
     "text": [
      "Процент пропусков:  10.13 %\n"
     ]
    },
    {
     "data": {
      "text/markdown": [
       "### activities"
      ],
      "text/plain": [
       "<IPython.core.display.Markdown object>"
      ]
     },
     "metadata": {},
     "output_type": "display_data"
    },
    {
     "data": {
      "text/markdown": [
       "дополнительные внеучебные занятия (yes или no)"
      ],
      "text/plain": [
       "<IPython.core.display.Markdown object>"
      ]
     },
     "metadata": {},
     "output_type": "display_data"
    },
    {
     "data": {
      "image/png": "[encoded data removed]",
      "text/plain": [
       "<Figure size 432x360 with 1 Axes>"
      ]
     },
     "metadata": {
      "needs_background": "light"
     },
     "output_type": "display_data"
    },
    {
     "name": "stdout",
     "output_type": "stream",
     "text": [
      "Процент пропусков:  3.54 %\n"
     ]
    },
    {
     "data": {
      "text/markdown": [
       "### nursery"
      ],
      "text/plain": [
       "<IPython.core.display.Markdown object>"
      ]
     },
     "metadata": {},
     "output_type": "display_data"
    },
    {
     "data": {
      "text/markdown": [
       "посещал детский сад (yes или no)"
      ],
      "text/plain": [
       "<IPython.core.display.Markdown object>"
      ]
     },
     "metadata": {},
     "output_type": "display_data"
    },
    {
     "data": {
      "image/png": "[encoded data removed]",
      "text/plain": [
       "<Figure size 432x360 with 1 Axes>"
      ]
     },
     "metadata": {
      "needs_background": "light"
     },
     "output_type": "display_data"
    },
    {
     "name": "stdout",
     "output_type": "stream",
     "text": [
      "Процент пропусков:  4.05 %\n"
     ]
    },
    {
     "data": {
      "text/markdown": [
       "### studytime_granular"
      ],
      "text/plain": [
       "<IPython.core.display.Markdown object>"
      ]
     },
     "metadata": {},
     "output_type": "display_data"
    },
    {
     "data": {
      "text/markdown": [
       "нет описания"
      ],
      "text/plain": [
       "<IPython.core.display.Markdown object>"
      ]
     },
     "metadata": {},
     "output_type": "display_data"
    },
    {
     "name": "stdout",
     "output_type": "stream",
     "text": [
      "Найдены выбросы по IQR в количестве:  27\n",
      "\n",
      "Первые 10:\n"
     ]
    },
    {
     "data": {
      "text/html": [
       "<div>\n",
       "<style scoped>\n",
       "    .dataframe tbody tr th:only-of-type {\n",
       "        vertical-align: middle;\n",
       "    }\n",
       "\n",
       "    .dataframe tbody tr th {\n",
       "        vertical-align: top;\n",
       "    }\n",
       "\n",
       "    .dataframe thead th {\n",
       "        text-align: right;\n",
       "    }\n",
       "</style>\n",
       "<table border=\"1\" class=\"dataframe\">\n",
       "  <thead>\n",
       "    <tr style=\"text-align: right;\">\n",
       "      <th></th>\n",
       "      <th>school</th>\n",
       "      <th>sex</th>\n",
       "      <th>age</th>\n",
       "      <th>address</th>\n",
       "      <th>famsize</th>\n",
       "      <th>pstatus</th>\n",
       "      <th>medu</th>\n",
       "      <th>fedu</th>\n",
       "      <th>mjob</th>\n",
       "      <th>fjob</th>\n",
       "      <th>reason</th>\n",
       "      <th>guardian</th>\n",
       "      <th>traveltime</th>\n",
       "      <th>studytime</th>\n",
       "      <th>failures</th>\n",
       "      <th>schoolsup</th>\n",
       "      <th>famsup</th>\n",
       "      <th>paid</th>\n",
       "      <th>activities</th>\n",
       "      <th>nursery</th>\n",
       "      <th>studytime_granular</th>\n",
       "      <th>higher</th>\n",
       "      <th>internet</th>\n",
       "      <th>romantic</th>\n",
       "      <th>famrel</th>\n",
       "      <th>freetime</th>\n",
       "      <th>goout</th>\n",
       "      <th>health</th>\n",
       "      <th>absences</th>\n",
       "      <th>score</th>\n",
       "    </tr>\n",
       "  </thead>\n",
       "  <tbody>\n",
       "    <tr>\n",
       "      <th>47</th>\n",
       "      <td>GP</td>\n",
       "      <td>M</td>\n",
       "      <td>16</td>\n",
       "      <td>U</td>\n",
       "      <td>GT3</td>\n",
       "      <td>T</td>\n",
       "      <td>4.0</td>\n",
       "      <td>3.0</td>\n",
       "      <td>health</td>\n",
       "      <td>NaN</td>\n",
       "      <td>reputation</td>\n",
       "      <td>mother</td>\n",
       "      <td>1.0</td>\n",
       "      <td>4.0</td>\n",
       "      <td>0.0</td>\n",
       "      <td>no</td>\n",
       "      <td>no</td>\n",
       "      <td>no</td>\n",
       "      <td>yes</td>\n",
       "      <td>yes</td>\n",
       "      <td>-12.0</td>\n",
       "      <td>yes</td>\n",
       "      <td>yes</td>\n",
       "      <td>no</td>\n",
       "      <td>4.0</td>\n",
       "      <td>2.0</td>\n",
       "      <td>2.0</td>\n",
       "      <td>2.0</td>\n",
       "      <td>4.0</td>\n",
       "      <td>100.0</td>\n",
       "    </tr>\n",
       "    <tr>\n",
       "      <th>66</th>\n",
       "      <td>GP</td>\n",
       "      <td>M</td>\n",
       "      <td>15</td>\n",
       "      <td>U</td>\n",
       "      <td>GT3</td>\n",
       "      <td>A</td>\n",
       "      <td>4.0</td>\n",
       "      <td>4.0</td>\n",
       "      <td>other</td>\n",
       "      <td>services</td>\n",
       "      <td>reputation</td>\n",
       "      <td>mother</td>\n",
       "      <td>1.0</td>\n",
       "      <td>4.0</td>\n",
       "      <td>0.0</td>\n",
       "      <td>no</td>\n",
       "      <td>yes</td>\n",
       "      <td>no</td>\n",
       "      <td>yes</td>\n",
       "      <td>no</td>\n",
       "      <td>-12.0</td>\n",
       "      <td>yes</td>\n",
       "      <td>yes</td>\n",
       "      <td>yes</td>\n",
       "      <td>1.0</td>\n",
       "      <td>3.0</td>\n",
       "      <td>3.0</td>\n",
       "      <td>3.0</td>\n",
       "      <td>4.0</td>\n",
       "      <td>60.0</td>\n",
       "    </tr>\n",
       "    <tr>\n",
       "      <th>67</th>\n",
       "      <td>GP</td>\n",
       "      <td>F</td>\n",
       "      <td>16</td>\n",
       "      <td>U</td>\n",
       "      <td>GT3</td>\n",
       "      <td>NaN</td>\n",
       "      <td>3.0</td>\n",
       "      <td>NaN</td>\n",
       "      <td>services</td>\n",
       "      <td>other</td>\n",
       "      <td>course</td>\n",
       "      <td>mother</td>\n",
       "      <td>1.0</td>\n",
       "      <td>4.0</td>\n",
       "      <td>0.0</td>\n",
       "      <td>yes</td>\n",
       "      <td>yes</td>\n",
       "      <td>yes</td>\n",
       "      <td>no</td>\n",
       "      <td>yes</td>\n",
       "      <td>-12.0</td>\n",
       "      <td>yes</td>\n",
       "      <td>yes</td>\n",
       "      <td>NaN</td>\n",
       "      <td>4.0</td>\n",
       "      <td>3.0</td>\n",
       "      <td>3.0</td>\n",
       "      <td>5.0</td>\n",
       "      <td>4.0</td>\n",
       "      <td>30.0</td>\n",
       "    </tr>\n",
       "    <tr>\n",
       "      <th>69</th>\n",
       "      <td>GP</td>\n",
       "      <td>F</td>\n",
       "      <td>15</td>\n",
       "      <td>R</td>\n",
       "      <td>LE3</td>\n",
       "      <td>T</td>\n",
       "      <td>3.0</td>\n",
       "      <td>1.0</td>\n",
       "      <td>other</td>\n",
       "      <td>other</td>\n",
       "      <td>reputation</td>\n",
       "      <td>father</td>\n",
       "      <td>2.0</td>\n",
       "      <td>4.0</td>\n",
       "      <td>0.0</td>\n",
       "      <td>no</td>\n",
       "      <td>yes</td>\n",
       "      <td>no</td>\n",
       "      <td>no</td>\n",
       "      <td>no</td>\n",
       "      <td>-12.0</td>\n",
       "      <td>yes</td>\n",
       "      <td>yes</td>\n",
       "      <td>no</td>\n",
       "      <td>4.0</td>\n",
       "      <td>4.0</td>\n",
       "      <td>2.0</td>\n",
       "      <td>3.0</td>\n",
       "      <td>12.0</td>\n",
       "      <td>80.0</td>\n",
       "    </tr>\n",
       "    <tr>\n",
       "      <th>70</th>\n",
       "      <td>GP</td>\n",
       "      <td>M</td>\n",
       "      <td>16</td>\n",
       "      <td>U</td>\n",
       "      <td>GT3</td>\n",
       "      <td>T</td>\n",
       "      <td>3.0</td>\n",
       "      <td>1.0</td>\n",
       "      <td>other</td>\n",
       "      <td>other</td>\n",
       "      <td>reputation</td>\n",
       "      <td>father</td>\n",
       "      <td>NaN</td>\n",
       "      <td>4.0</td>\n",
       "      <td>0.0</td>\n",
       "      <td>no</td>\n",
       "      <td>yes</td>\n",
       "      <td>yes</td>\n",
       "      <td>no</td>\n",
       "      <td>yes</td>\n",
       "      <td>-12.0</td>\n",
       "      <td>yes</td>\n",
       "      <td>yes</td>\n",
       "      <td>no</td>\n",
       "      <td>4.0</td>\n",
       "      <td>3.0</td>\n",
       "      <td>2.0</td>\n",
       "      <td>5.0</td>\n",
       "      <td>0.0</td>\n",
       "      <td>75.0</td>\n",
       "    </tr>\n",
       "    <tr>\n",
       "      <th>71</th>\n",
       "      <td>GP</td>\n",
       "      <td>M</td>\n",
       "      <td>15</td>\n",
       "      <td>U</td>\n",
       "      <td>GT3</td>\n",
       "      <td>T</td>\n",
       "      <td>4.0</td>\n",
       "      <td>2.0</td>\n",
       "      <td>other</td>\n",
       "      <td>other</td>\n",
       "      <td>course</td>\n",
       "      <td>mother</td>\n",
       "      <td>1.0</td>\n",
       "      <td>4.0</td>\n",
       "      <td>0.0</td>\n",
       "      <td>no</td>\n",
       "      <td>no</td>\n",
       "      <td>no</td>\n",
       "      <td>no</td>\n",
       "      <td>yes</td>\n",
       "      <td>-12.0</td>\n",
       "      <td>yes</td>\n",
       "      <td>yes</td>\n",
       "      <td>no</td>\n",
       "      <td>3.0</td>\n",
       "      <td>3.0</td>\n",
       "      <td>3.0</td>\n",
       "      <td>3.0</td>\n",
       "      <td>0.0</td>\n",
       "      <td>50.0</td>\n",
       "    </tr>\n",
       "    <tr>\n",
       "      <th>76</th>\n",
       "      <td>GP</td>\n",
       "      <td>M</td>\n",
       "      <td>15</td>\n",
       "      <td>U</td>\n",
       "      <td>NaN</td>\n",
       "      <td>T</td>\n",
       "      <td>4.0</td>\n",
       "      <td>0.0</td>\n",
       "      <td>teacher</td>\n",
       "      <td>other</td>\n",
       "      <td>course</td>\n",
       "      <td>mother</td>\n",
       "      <td>2.0</td>\n",
       "      <td>4.0</td>\n",
       "      <td>0.0</td>\n",
       "      <td>no</td>\n",
       "      <td>no</td>\n",
       "      <td>no</td>\n",
       "      <td>yes</td>\n",
       "      <td>yes</td>\n",
       "      <td>-12.0</td>\n",
       "      <td>NaN</td>\n",
       "      <td>yes</td>\n",
       "      <td>no</td>\n",
       "      <td>3.0</td>\n",
       "      <td>4.0</td>\n",
       "      <td>3.0</td>\n",
       "      <td>1.0</td>\n",
       "      <td>8.0</td>\n",
       "      <td>50.0</td>\n",
       "    </tr>\n",
       "    <tr>\n",
       "      <th>77</th>\n",
       "      <td>GP</td>\n",
       "      <td>F</td>\n",
       "      <td>16</td>\n",
       "      <td>U</td>\n",
       "      <td>GT3</td>\n",
       "      <td>T</td>\n",
       "      <td>2.0</td>\n",
       "      <td>2.0</td>\n",
       "      <td>other</td>\n",
       "      <td>other</td>\n",
       "      <td>NaN</td>\n",
       "      <td>mother</td>\n",
       "      <td>1.0</td>\n",
       "      <td>4.0</td>\n",
       "      <td>0.0</td>\n",
       "      <td>no</td>\n",
       "      <td>no</td>\n",
       "      <td>yes</td>\n",
       "      <td>no</td>\n",
       "      <td>yes</td>\n",
       "      <td>-12.0</td>\n",
       "      <td>yes</td>\n",
       "      <td>yes</td>\n",
       "      <td>yes</td>\n",
       "      <td>5.0</td>\n",
       "      <td>2.0</td>\n",
       "      <td>3.0</td>\n",
       "      <td>3.0</td>\n",
       "      <td>0.0</td>\n",
       "      <td>55.0</td>\n",
       "    </tr>\n",
       "    <tr>\n",
       "      <th>94</th>\n",
       "      <td>GP</td>\n",
       "      <td>M</td>\n",
       "      <td>15</td>\n",
       "      <td>U</td>\n",
       "      <td>LE3</td>\n",
       "      <td>T</td>\n",
       "      <td>2.0</td>\n",
       "      <td>2.0</td>\n",
       "      <td>services</td>\n",
       "      <td>health</td>\n",
       "      <td>reputation</td>\n",
       "      <td>mother</td>\n",
       "      <td>1.0</td>\n",
       "      <td>4.0</td>\n",
       "      <td>0.0</td>\n",
       "      <td>no</td>\n",
       "      <td>yes</td>\n",
       "      <td>no</td>\n",
       "      <td>yes</td>\n",
       "      <td>yes</td>\n",
       "      <td>-12.0</td>\n",
       "      <td>yes</td>\n",
       "      <td>yes</td>\n",
       "      <td>no</td>\n",
       "      <td>NaN</td>\n",
       "      <td>3.0</td>\n",
       "      <td>4.0</td>\n",
       "      <td>4.0</td>\n",
       "      <td>6.0</td>\n",
       "      <td>70.0</td>\n",
       "    </tr>\n",
       "    <tr>\n",
       "      <th>95</th>\n",
       "      <td>GP</td>\n",
       "      <td>F</td>\n",
       "      <td>15</td>\n",
       "      <td>R</td>\n",
       "      <td>GT3</td>\n",
       "      <td>T</td>\n",
       "      <td>1.0</td>\n",
       "      <td>1.0</td>\n",
       "      <td>at_home</td>\n",
       "      <td>other</td>\n",
       "      <td>home</td>\n",
       "      <td>mother</td>\n",
       "      <td>2.0</td>\n",
       "      <td>4.0</td>\n",
       "      <td>1.0</td>\n",
       "      <td>yes</td>\n",
       "      <td>yes</td>\n",
       "      <td>yes</td>\n",
       "      <td>yes</td>\n",
       "      <td>yes</td>\n",
       "      <td>-12.0</td>\n",
       "      <td>yes</td>\n",
       "      <td>yes</td>\n",
       "      <td>no</td>\n",
       "      <td>3.0</td>\n",
       "      <td>1.0</td>\n",
       "      <td>2.0</td>\n",
       "      <td>1.0</td>\n",
       "      <td>2.0</td>\n",
       "      <td>50.0</td>\n",
       "    </tr>\n",
       "  </tbody>\n",
       "</table>\n",
       "</div>"
      ],
      "text/plain": [
       "   school sex  age address famsize pstatus  medu  fedu      mjob      fjob  \\\n",
       "47     GP   M   16       U     GT3       T   4.0   3.0    health       NaN   \n",
       "66     GP   M   15       U     GT3       A   4.0   4.0     other  services   \n",
       "67     GP   F   16       U     GT3     NaN   3.0   NaN  services     other   \n",
       "69     GP   F   15       R     LE3       T   3.0   1.0     other     other   \n",
       "70     GP   M   16       U     GT3       T   3.0   1.0     other     other   \n",
       "71     GP   M   15       U     GT3       T   4.0   2.0     other     other   \n",
       "76     GP   M   15       U     NaN       T   4.0   0.0   teacher     other   \n",
       "77     GP   F   16       U     GT3       T   2.0   2.0     other     other   \n",
       "94     GP   M   15       U     LE3       T   2.0   2.0  services    health   \n",
       "95     GP   F   15       R     GT3       T   1.0   1.0   at_home     other   \n",
       "\n",
       "        reason guardian  traveltime  studytime  failures schoolsup famsup  \\\n",
       "47  reputation   mother         1.0        4.0       0.0        no     no   \n",
       "66  reputation   mother         1.0        4.0       0.0        no    yes   \n",
       "67      course   mother         1.0        4.0       0.0       yes    yes   \n",
       "69  reputation   father         2.0        4.0       0.0        no    yes   \n",
       "70  reputation   father         NaN        4.0       0.0        no    yes   \n",
       "71      course   mother         1.0        4.0       0.0        no     no   \n",
       "76      course   mother         2.0        4.0       0.0        no     no   \n",
       "77         NaN   mother         1.0        4.0       0.0        no     no   \n",
       "94  reputation   mother         1.0        4.0       0.0        no    yes   \n",
       "95        home   mother         2.0        4.0       1.0       yes    yes   \n",
       "\n",
       "   paid activities nursery  studytime_granular higher internet romantic  \\\n",
       "47   no        yes     yes               -12.0    yes      yes       no   \n",
       "66   no        yes      no               -12.0    yes      yes      yes   \n",
       "67  yes         no     yes               -12.0    yes      yes      NaN   \n",
       "69   no         no      no               -12.0    yes      yes       no   \n",
       "70  yes         no     yes               -12.0    yes      yes       no   \n",
       "71   no         no     yes               -12.0    yes      yes       no   \n",
       "76   no        yes     yes               -12.0    NaN      yes       no   \n",
       "77  yes         no     yes               -12.0    yes      yes      yes   \n",
       "94   no        yes     yes               -12.0    yes      yes       no   \n",
       "95  yes        yes     yes               -12.0    yes      yes       no   \n",
       "\n",
       "    famrel  freetime  goout  health  absences  score  \n",
       "47     4.0       2.0    2.0     2.0       4.0  100.0  \n",
       "66     1.0       3.0    3.0     3.0       4.0   60.0  \n",
       "67     4.0       3.0    3.0     5.0       4.0   30.0  \n",
       "69     4.0       4.0    2.0     3.0      12.0   80.0  \n",
       "70     4.0       3.0    2.0     5.0       0.0   75.0  \n",
       "71     3.0       3.0    3.0     3.0       0.0   50.0  \n",
       "76     3.0       4.0    3.0     1.0       8.0   50.0  \n",
       "77     5.0       2.0    3.0     3.0       0.0   55.0  \n",
       "94     NaN       3.0    4.0     4.0       6.0   70.0  \n",
       "95     3.0       1.0    2.0     1.0       2.0   50.0  "
      ]
     },
     "metadata": {},
     "output_type": "display_data"
    },
    {
     "data": {
      "image/png": "[encoded data removed]",
      "text/plain": [
       "<Figure size 1008x288 with 2 Axes>"
      ]
     },
     "metadata": {
      "needs_background": "light"
     },
     "output_type": "display_data"
    },
    {
     "name": "stdout",
     "output_type": "stream",
     "text": [
      "Процент пропусков:  1.77 %\n"
     ]
    },
    {
     "data": {
      "text/markdown": [
       "### higher"
      ],
      "text/plain": [
       "<IPython.core.display.Markdown object>"
      ]
     },
     "metadata": {},
     "output_type": "display_data"
    },
    {
     "data": {
      "text/markdown": [
       "хочет получить высшее образование (yes или no)"
      ],
      "text/plain": [
       "<IPython.core.display.Markdown object>"
      ]
     },
     "metadata": {},
     "output_type": "display_data"
    },
    {
     "data": {
      "image/png": "[encoded data removed]",
      "text/plain": [
       "<Figure size 432x360 with 1 Axes>"
      ]
     },
     "metadata": {
      "needs_background": "light"
     },
     "output_type": "display_data"
    },
    {
     "name": "stdout",
     "output_type": "stream",
     "text": [
      "Процент пропусков:  5.06 %\n"
     ]
    },
    {
     "data": {
      "text/markdown": [
       "### internet"
      ],
      "text/plain": [
       "<IPython.core.display.Markdown object>"
      ]
     },
     "metadata": {},
     "output_type": "display_data"
    },
    {
     "data": {
      "text/markdown": [
       "наличие интернета дома (yes или no)"
      ],
      "text/plain": [
       "<IPython.core.display.Markdown object>"
      ]
     },
     "metadata": {},
     "output_type": "display_data"
    },
    {
     "data": {
      "image/png": "[encoded data removed]",
      "text/plain": [
       "<Figure size 432x360 with 1 Axes>"
      ]
     },
     "metadata": {
      "needs_background": "light"
     },
     "output_type": "display_data"
    },
    {
     "name": "stdout",
     "output_type": "stream",
     "text": [
      "Процент пропусков:  8.61 %\n"
     ]
    },
    {
     "data": {
      "text/markdown": [
       "### romantic"
      ],
      "text/plain": [
       "<IPython.core.display.Markdown object>"
      ]
     },
     "metadata": {},
     "output_type": "display_data"
    },
    {
     "data": {
      "text/markdown": [
       "в романтических отношениях (yes или no)"
      ],
      "text/plain": [
       "<IPython.core.display.Markdown object>"
      ]
     },
     "metadata": {},
     "output_type": "display_data"
    },
    {
     "data": {
      "image/png": "[encoded data removed]",
      "text/plain": [
       "<Figure size 432x360 with 1 Axes>"
      ]
     },
     "metadata": {
      "needs_background": "light"
     },
     "output_type": "display_data"
    },
    {
     "name": "stdout",
     "output_type": "stream",
     "text": [
      "Процент пропусков:  7.85 %\n"
     ]
    },
    {
     "data": {
      "text/markdown": [
       "### famrel"
      ],
      "text/plain": [
       "<IPython.core.display.Markdown object>"
      ]
     },
     "metadata": {},
     "output_type": "display_data"
    },
    {
     "data": {
      "text/markdown": [
       "семейные отношения (от 1 - очень плохо до 5 - очень хорошо)"
      ],
      "text/plain": [
       "<IPython.core.display.Markdown object>"
      ]
     },
     "metadata": {},
     "output_type": "display_data"
    },
    {
     "name": "stdout",
     "output_type": "stream",
     "text": [
      "Найдены ошибки в количестве:  1\n"
     ]
    },
    {
     "data": {
      "text/html": [
       "<div>\n",
       "<style scoped>\n",
       "    .dataframe tbody tr th:only-of-type {\n",
       "        vertical-align: middle;\n",
       "    }\n",
       "\n",
       "    .dataframe tbody tr th {\n",
       "        vertical-align: top;\n",
       "    }\n",
       "\n",
       "    .dataframe thead th {\n",
       "        text-align: right;\n",
       "    }\n",
       "</style>\n",
       "<table border=\"1\" class=\"dataframe\">\n",
       "  <thead>\n",
       "    <tr style=\"text-align: right;\">\n",
       "      <th></th>\n",
       "      <th>school</th>\n",
       "      <th>sex</th>\n",
       "      <th>age</th>\n",
       "      <th>address</th>\n",
       "      <th>famsize</th>\n",
       "      <th>pstatus</th>\n",
       "      <th>medu</th>\n",
       "      <th>fedu</th>\n",
       "      <th>mjob</th>\n",
       "      <th>fjob</th>\n",
       "      <th>reason</th>\n",
       "      <th>guardian</th>\n",
       "      <th>traveltime</th>\n",
       "      <th>studytime</th>\n",
       "      <th>failures</th>\n",
       "      <th>schoolsup</th>\n",
       "      <th>famsup</th>\n",
       "      <th>paid</th>\n",
       "      <th>activities</th>\n",
       "      <th>nursery</th>\n",
       "      <th>studytime_granular</th>\n",
       "      <th>higher</th>\n",
       "      <th>internet</th>\n",
       "      <th>romantic</th>\n",
       "      <th>famrel</th>\n",
       "      <th>freetime</th>\n",
       "      <th>goout</th>\n",
       "      <th>health</th>\n",
       "      <th>absences</th>\n",
       "      <th>score</th>\n",
       "    </tr>\n",
       "  </thead>\n",
       "  <tbody>\n",
       "    <tr>\n",
       "      <th>25</th>\n",
       "      <td>GP</td>\n",
       "      <td>F</td>\n",
       "      <td>16</td>\n",
       "      <td>U</td>\n",
       "      <td>GT3</td>\n",
       "      <td>NaN</td>\n",
       "      <td>2.0</td>\n",
       "      <td>2.0</td>\n",
       "      <td>services</td>\n",
       "      <td>services</td>\n",
       "      <td>home</td>\n",
       "      <td>mother</td>\n",
       "      <td>1.0</td>\n",
       "      <td>1.0</td>\n",
       "      <td>2.0</td>\n",
       "      <td>no</td>\n",
       "      <td>yes</td>\n",
       "      <td>yes</td>\n",
       "      <td>no</td>\n",
       "      <td>no</td>\n",
       "      <td>-3.0</td>\n",
       "      <td>yes</td>\n",
       "      <td>yes</td>\n",
       "      <td>no</td>\n",
       "      <td>-1.0</td>\n",
       "      <td>2.0</td>\n",
       "      <td>2.0</td>\n",
       "      <td>5.0</td>\n",
       "      <td>14.0</td>\n",
       "      <td>40.0</td>\n",
       "    </tr>\n",
       "  </tbody>\n",
       "</table>\n",
       "</div>"
      ],
      "text/plain": [
       "   school sex  age address famsize pstatus  medu  fedu      mjob      fjob  \\\n",
       "25     GP   F   16       U     GT3     NaN   2.0   2.0  services  services   \n",
       "\n",
       "   reason guardian  traveltime  studytime  failures schoolsup famsup paid  \\\n",
       "25   home   mother         1.0        1.0       2.0        no    yes  yes   \n",
       "\n",
       "   activities nursery  studytime_granular higher internet romantic  famrel  \\\n",
       "25         no      no                -3.0    yes      yes       no    -1.0   \n",
       "\n",
       "    freetime  goout  health  absences  score  \n",
       "25       2.0    2.0     5.0      14.0   40.0  "
      ]
     },
     "metadata": {},
     "output_type": "display_data"
    },
    {
     "data": {
      "image/png": "[encoded data removed]",
      "text/plain": [
       "<Figure size 1008x288 with 2 Axes>"
      ]
     },
     "metadata": {
      "needs_background": "light"
     },
     "output_type": "display_data"
    },
    {
     "name": "stdout",
     "output_type": "stream",
     "text": [
      "Процент пропусков:  6.84 %\n"
     ]
    },
    {
     "data": {
      "text/markdown": [
       "### freetime"
      ],
      "text/plain": [
       "<IPython.core.display.Markdown object>"
      ]
     },
     "metadata": {},
     "output_type": "display_data"
    },
    {
     "data": {
      "text/markdown": [
       "свободное время после школы (от 1 - очень мало до 5 - очень мого)"
      ],
      "text/plain": [
       "<IPython.core.display.Markdown object>"
      ]
     },
     "metadata": {},
     "output_type": "display_data"
    },
    {
     "name": "stdout",
     "output_type": "stream",
     "text": [
      "Ошибки не обнаружены\n"
     ]
    },
    {
     "data": {
      "image/png": "[encoded data removed]",
      "text/plain": [
       "<Figure size 504x288 with 1 Axes>"
      ]
     },
     "metadata": {
      "needs_background": "light"
     },
     "output_type": "display_data"
    },
    {
     "name": "stdout",
     "output_type": "stream",
     "text": [
      "Процент пропусков:  2.78 %\n"
     ]
    },
    {
     "data": {
      "text/markdown": [
       "### goout"
      ],
      "text/plain": [
       "<IPython.core.display.Markdown object>"
      ]
     },
     "metadata": {},
     "output_type": "display_data"
    },
    {
     "data": {
      "text/markdown": [
       "проведение времени с друзьями (от 1 - очень мало до 5 - очень много)"
      ],
      "text/plain": [
       "<IPython.core.display.Markdown object>"
      ]
     },
     "metadata": {},
     "output_type": "display_data"
    },
    {
     "name": "stdout",
     "output_type": "stream",
     "text": [
      "Ошибки не обнаружены\n"
     ]
    },
    {
     "data": {
      "image/png": "[encoded data removed]",
      "text/plain": [
       "<Figure size 504x288 with 1 Axes>"
      ]
     },
     "metadata": {
      "needs_background": "light"
     },
     "output_type": "display_data"
    },
    {
     "name": "stdout",
     "output_type": "stream",
     "text": [
      "Процент пропусков:  2.03 %\n"
     ]
    },
    {
     "data": {
      "text/markdown": [
       "### health"
      ],
      "text/plain": [
       "<IPython.core.display.Markdown object>"
      ]
     },
     "metadata": {},
     "output_type": "display_data"
    },
    {
     "data": {
      "text/markdown": [
       "текущее состояние здоровья (от 1 - очень плохо до 5 - очень хорошо)"
      ],
      "text/plain": [
       "<IPython.core.display.Markdown object>"
      ]
     },
     "metadata": {},
     "output_type": "display_data"
    },
    {
     "name": "stdout",
     "output_type": "stream",
     "text": [
      "Ошибки не обнаружены\n"
     ]
    },
    {
     "data": {
      "image/png": "[encoded data removed]",
      "text/plain": [
       "<Figure size 504x288 with 1 Axes>"
      ]
     },
     "metadata": {
      "needs_background": "light"
     },
     "output_type": "display_data"
    },
    {
     "name": "stdout",
     "output_type": "stream",
     "text": [
      "Процент пропусков:  3.8 %\n"
     ]
    },
    {
     "data": {
      "text/markdown": [
       "### absences"
      ],
      "text/plain": [
       "<IPython.core.display.Markdown object>"
      ]
     },
     "metadata": {},
     "output_type": "display_data"
    },
    {
     "data": {
      "text/markdown": [
       "количество пропущенных занятий"
      ],
      "text/plain": [
       "<IPython.core.display.Markdown object>"
      ]
     },
     "metadata": {},
     "output_type": "display_data"
    },
    {
     "name": "stdout",
     "output_type": "stream",
     "text": [
      "Найдены выбросы по IQR в количестве:  17\n",
      "\n",
      "Первые 10:\n"
     ]
    },
    {
     "data": {
      "text/html": [
       "<div>\n",
       "<style scoped>\n",
       "    .dataframe tbody tr th:only-of-type {\n",
       "        vertical-align: middle;\n",
       "    }\n",
       "\n",
       "    .dataframe tbody tr th {\n",
       "        vertical-align: top;\n",
       "    }\n",
       "\n",
       "    .dataframe thead th {\n",
       "        text-align: right;\n",
       "    }\n",
       "</style>\n",
       "<table border=\"1\" class=\"dataframe\">\n",
       "  <thead>\n",
       "    <tr style=\"text-align: right;\">\n",
       "      <th></th>\n",
       "      <th>school</th>\n",
       "      <th>sex</th>\n",
       "      <th>age</th>\n",
       "      <th>address</th>\n",
       "      <th>famsize</th>\n",
       "      <th>pstatus</th>\n",
       "      <th>medu</th>\n",
       "      <th>fedu</th>\n",
       "      <th>mjob</th>\n",
       "      <th>fjob</th>\n",
       "      <th>reason</th>\n",
       "      <th>guardian</th>\n",
       "      <th>traveltime</th>\n",
       "      <th>studytime</th>\n",
       "      <th>failures</th>\n",
       "      <th>schoolsup</th>\n",
       "      <th>famsup</th>\n",
       "      <th>paid</th>\n",
       "      <th>activities</th>\n",
       "      <th>nursery</th>\n",
       "      <th>studytime_granular</th>\n",
       "      <th>higher</th>\n",
       "      <th>internet</th>\n",
       "      <th>romantic</th>\n",
       "      <th>famrel</th>\n",
       "      <th>freetime</th>\n",
       "      <th>goout</th>\n",
       "      <th>health</th>\n",
       "      <th>absences</th>\n",
       "      <th>score</th>\n",
       "    </tr>\n",
       "  </thead>\n",
       "  <tbody>\n",
       "    <tr>\n",
       "      <th>40</th>\n",
       "      <td>GP</td>\n",
       "      <td>F</td>\n",
       "      <td>16</td>\n",
       "      <td>U</td>\n",
       "      <td>LE3</td>\n",
       "      <td>T</td>\n",
       "      <td>2.0</td>\n",
       "      <td>2.0</td>\n",
       "      <td>other</td>\n",
       "      <td>other</td>\n",
       "      <td>home</td>\n",
       "      <td>mother</td>\n",
       "      <td>2.0</td>\n",
       "      <td>2.0</td>\n",
       "      <td>1.0</td>\n",
       "      <td>no</td>\n",
       "      <td>NaN</td>\n",
       "      <td>no</td>\n",
       "      <td>yes</td>\n",
       "      <td>no</td>\n",
       "      <td>-6.0</td>\n",
       "      <td>yes</td>\n",
       "      <td>yes</td>\n",
       "      <td>yes</td>\n",
       "      <td>3.0</td>\n",
       "      <td>3.0</td>\n",
       "      <td>3.0</td>\n",
       "      <td>3.0</td>\n",
       "      <td>25.0</td>\n",
       "      <td>55.0</td>\n",
       "    </tr>\n",
       "    <tr>\n",
       "      <th>74</th>\n",
       "      <td>GP</td>\n",
       "      <td>F</td>\n",
       "      <td>16</td>\n",
       "      <td>U</td>\n",
       "      <td>GT3</td>\n",
       "      <td>T</td>\n",
       "      <td>3.0</td>\n",
       "      <td>3.0</td>\n",
       "      <td>other</td>\n",
       "      <td>services</td>\n",
       "      <td>home</td>\n",
       "      <td>mother</td>\n",
       "      <td>1.0</td>\n",
       "      <td>2.0</td>\n",
       "      <td>0.0</td>\n",
       "      <td>yes</td>\n",
       "      <td>yes</td>\n",
       "      <td>yes</td>\n",
       "      <td>yes</td>\n",
       "      <td>yes</td>\n",
       "      <td>-6.0</td>\n",
       "      <td>yes</td>\n",
       "      <td>yes</td>\n",
       "      <td>no</td>\n",
       "      <td>4.0</td>\n",
       "      <td>NaN</td>\n",
       "      <td>3.0</td>\n",
       "      <td>5.0</td>\n",
       "      <td>54.0</td>\n",
       "      <td>55.0</td>\n",
       "    </tr>\n",
       "    <tr>\n",
       "      <th>103</th>\n",
       "      <td>GP</td>\n",
       "      <td>F</td>\n",
       "      <td>15</td>\n",
       "      <td>U</td>\n",
       "      <td>GT3</td>\n",
       "      <td>T</td>\n",
       "      <td>3.0</td>\n",
       "      <td>2.0</td>\n",
       "      <td>services</td>\n",
       "      <td>other</td>\n",
       "      <td>home</td>\n",
       "      <td>mother</td>\n",
       "      <td>2.0</td>\n",
       "      <td>2.0</td>\n",
       "      <td>0.0</td>\n",
       "      <td>yes</td>\n",
       "      <td>yes</td>\n",
       "      <td>yes</td>\n",
       "      <td>no</td>\n",
       "      <td>yes</td>\n",
       "      <td>-6.0</td>\n",
       "      <td>yes</td>\n",
       "      <td>yes</td>\n",
       "      <td>no</td>\n",
       "      <td>4.0</td>\n",
       "      <td>3.0</td>\n",
       "      <td>5.0</td>\n",
       "      <td>2.0</td>\n",
       "      <td>26.0</td>\n",
       "      <td>30.0</td>\n",
       "    </tr>\n",
       "    <tr>\n",
       "      <th>183</th>\n",
       "      <td>GP</td>\n",
       "      <td>F</td>\n",
       "      <td>17</td>\n",
       "      <td>U</td>\n",
       "      <td>LE3</td>\n",
       "      <td>NaN</td>\n",
       "      <td>3.0</td>\n",
       "      <td>3.0</td>\n",
       "      <td>other</td>\n",
       "      <td>other</td>\n",
       "      <td>reputation</td>\n",
       "      <td>mother</td>\n",
       "      <td>1.0</td>\n",
       "      <td>2.0</td>\n",
       "      <td>0.0</td>\n",
       "      <td>no</td>\n",
       "      <td>yes</td>\n",
       "      <td>no</td>\n",
       "      <td>yes</td>\n",
       "      <td>yes</td>\n",
       "      <td>-6.0</td>\n",
       "      <td>yes</td>\n",
       "      <td>yes</td>\n",
       "      <td>yes</td>\n",
       "      <td>5.0</td>\n",
       "      <td>3.0</td>\n",
       "      <td>3.0</td>\n",
       "      <td>1.0</td>\n",
       "      <td>56.0</td>\n",
       "      <td>40.0</td>\n",
       "    </tr>\n",
       "    <tr>\n",
       "      <th>198</th>\n",
       "      <td>GP</td>\n",
       "      <td>F</td>\n",
       "      <td>17</td>\n",
       "      <td>U</td>\n",
       "      <td>GT3</td>\n",
       "      <td>NaN</td>\n",
       "      <td>4.0</td>\n",
       "      <td>4.0</td>\n",
       "      <td>services</td>\n",
       "      <td>teacher</td>\n",
       "      <td>home</td>\n",
       "      <td>mother</td>\n",
       "      <td>2.0</td>\n",
       "      <td>1.0</td>\n",
       "      <td>1.0</td>\n",
       "      <td>no</td>\n",
       "      <td>yes</td>\n",
       "      <td>no</td>\n",
       "      <td>no</td>\n",
       "      <td>yes</td>\n",
       "      <td>-3.0</td>\n",
       "      <td>yes</td>\n",
       "      <td>NaN</td>\n",
       "      <td>no</td>\n",
       "      <td>4.0</td>\n",
       "      <td>2.0</td>\n",
       "      <td>4.0</td>\n",
       "      <td>2.0</td>\n",
       "      <td>24.0</td>\n",
       "      <td>90.0</td>\n",
       "    </tr>\n",
       "    <tr>\n",
       "      <th>205</th>\n",
       "      <td>GP</td>\n",
       "      <td>F</td>\n",
       "      <td>17</td>\n",
       "      <td>U</td>\n",
       "      <td>GT3</td>\n",
       "      <td>T</td>\n",
       "      <td>3.0</td>\n",
       "      <td>4.0</td>\n",
       "      <td>at_home</td>\n",
       "      <td>services</td>\n",
       "      <td>home</td>\n",
       "      <td>mother</td>\n",
       "      <td>1.0</td>\n",
       "      <td>3.0</td>\n",
       "      <td>1.0</td>\n",
       "      <td>no</td>\n",
       "      <td>yes</td>\n",
       "      <td>yes</td>\n",
       "      <td>no</td>\n",
       "      <td>yes</td>\n",
       "      <td>-9.0</td>\n",
       "      <td>yes</td>\n",
       "      <td>yes</td>\n",
       "      <td>yes</td>\n",
       "      <td>4.0</td>\n",
       "      <td>4.0</td>\n",
       "      <td>3.0</td>\n",
       "      <td>5.0</td>\n",
       "      <td>28.0</td>\n",
       "      <td>45.0</td>\n",
       "    </tr>\n",
       "    <tr>\n",
       "      <th>216</th>\n",
       "      <td>GP</td>\n",
       "      <td>F</td>\n",
       "      <td>17</td>\n",
       "      <td>U</td>\n",
       "      <td>GT3</td>\n",
       "      <td>T</td>\n",
       "      <td>4.0</td>\n",
       "      <td>3.0</td>\n",
       "      <td>other</td>\n",
       "      <td>NaN</td>\n",
       "      <td>reputation</td>\n",
       "      <td>mother</td>\n",
       "      <td>1.0</td>\n",
       "      <td>2.0</td>\n",
       "      <td>2.0</td>\n",
       "      <td>no</td>\n",
       "      <td>no</td>\n",
       "      <td>yes</td>\n",
       "      <td>no</td>\n",
       "      <td>yes</td>\n",
       "      <td>-6.0</td>\n",
       "      <td>yes</td>\n",
       "      <td>yes</td>\n",
       "      <td>yes</td>\n",
       "      <td>3.0</td>\n",
       "      <td>4.0</td>\n",
       "      <td>5.0</td>\n",
       "      <td>1.0</td>\n",
       "      <td>22.0</td>\n",
       "      <td>20.0</td>\n",
       "    </tr>\n",
       "    <tr>\n",
       "      <th>222</th>\n",
       "      <td>GP</td>\n",
       "      <td>F</td>\n",
       "      <td>16</td>\n",
       "      <td>U</td>\n",
       "      <td>GT3</td>\n",
       "      <td>T</td>\n",
       "      <td>2.0</td>\n",
       "      <td>3.0</td>\n",
       "      <td>services</td>\n",
       "      <td>teacher</td>\n",
       "      <td>other</td>\n",
       "      <td>mother</td>\n",
       "      <td>1.0</td>\n",
       "      <td>2.0</td>\n",
       "      <td>0.0</td>\n",
       "      <td>yes</td>\n",
       "      <td>NaN</td>\n",
       "      <td>no</td>\n",
       "      <td>no</td>\n",
       "      <td>yes</td>\n",
       "      <td>-6.0</td>\n",
       "      <td>yes</td>\n",
       "      <td>yes</td>\n",
       "      <td>no</td>\n",
       "      <td>2.0</td>\n",
       "      <td>3.0</td>\n",
       "      <td>1.0</td>\n",
       "      <td>3.0</td>\n",
       "      <td>385.0</td>\n",
       "      <td>85.0</td>\n",
       "    </tr>\n",
       "    <tr>\n",
       "      <th>260</th>\n",
       "      <td>GP</td>\n",
       "      <td>F</td>\n",
       "      <td>18</td>\n",
       "      <td>U</td>\n",
       "      <td>GT3</td>\n",
       "      <td>NaN</td>\n",
       "      <td>4.0</td>\n",
       "      <td>3.0</td>\n",
       "      <td>NaN</td>\n",
       "      <td>other</td>\n",
       "      <td>home</td>\n",
       "      <td>father</td>\n",
       "      <td>1.0</td>\n",
       "      <td>2.0</td>\n",
       "      <td>0.0</td>\n",
       "      <td>no</td>\n",
       "      <td>yes</td>\n",
       "      <td>yes</td>\n",
       "      <td>no</td>\n",
       "      <td>yes</td>\n",
       "      <td>-6.0</td>\n",
       "      <td>yes</td>\n",
       "      <td>yes</td>\n",
       "      <td>yes</td>\n",
       "      <td>3.0</td>\n",
       "      <td>1.0</td>\n",
       "      <td>2.0</td>\n",
       "      <td>2.0</td>\n",
       "      <td>21.0</td>\n",
       "      <td>90.0</td>\n",
       "    </tr>\n",
       "    <tr>\n",
       "      <th>276</th>\n",
       "      <td>GP</td>\n",
       "      <td>F</td>\n",
       "      <td>18</td>\n",
       "      <td>R</td>\n",
       "      <td>GT3</td>\n",
       "      <td>A</td>\n",
       "      <td>3.0</td>\n",
       "      <td>2.0</td>\n",
       "      <td>other</td>\n",
       "      <td>services</td>\n",
       "      <td>home</td>\n",
       "      <td>mother</td>\n",
       "      <td>2.0</td>\n",
       "      <td>2.0</td>\n",
       "      <td>0.0</td>\n",
       "      <td>no</td>\n",
       "      <td>NaN</td>\n",
       "      <td>no</td>\n",
       "      <td>no</td>\n",
       "      <td>no</td>\n",
       "      <td>-6.0</td>\n",
       "      <td>no</td>\n",
       "      <td>yes</td>\n",
       "      <td>yes</td>\n",
       "      <td>NaN</td>\n",
       "      <td>1.0</td>\n",
       "      <td>1.0</td>\n",
       "      <td>5.0</td>\n",
       "      <td>75.0</td>\n",
       "      <td>45.0</td>\n",
       "    </tr>\n",
       "  </tbody>\n",
       "</table>\n",
       "</div>"
      ],
      "text/plain": [
       "    school sex  age address famsize pstatus  medu  fedu      mjob      fjob  \\\n",
       "40      GP   F   16       U     LE3       T   2.0   2.0     other     other   \n",
       "74      GP   F   16       U     GT3       T   3.0   3.0     other  services   \n",
       "103     GP   F   15       U     GT3       T   3.0   2.0  services     other   \n",
       "183     GP   F   17       U     LE3     NaN   3.0   3.0     other     other   \n",
       "198     GP   F   17       U     GT3     NaN   4.0   4.0  services   teacher   \n",
       "205     GP   F   17       U     GT3       T   3.0   4.0   at_home  services   \n",
       "216     GP   F   17       U     GT3       T   4.0   3.0     other       NaN   \n",
       "222     GP   F   16       U     GT3       T   2.0   3.0  services   teacher   \n",
       "260     GP   F   18       U     GT3     NaN   4.0   3.0       NaN     other   \n",
       "276     GP   F   18       R     GT3       A   3.0   2.0     other  services   \n",
       "\n",
       "         reason guardian  traveltime  studytime  failures schoolsup famsup  \\\n",
       "40         home   mother         2.0        2.0       1.0        no    NaN   \n",
       "74         home   mother         1.0        2.0       0.0       yes    yes   \n",
       "103        home   mother         2.0        2.0       0.0       yes    yes   \n",
       "183  reputation   mother         1.0        2.0       0.0        no    yes   \n",
       "198        home   mother         2.0        1.0       1.0        no    yes   \n",
       "205        home   mother         1.0        3.0       1.0        no    yes   \n",
       "216  reputation   mother         1.0        2.0       2.0        no     no   \n",
       "222       other   mother         1.0        2.0       0.0       yes    NaN   \n",
       "260        home   father         1.0        2.0       0.0        no    yes   \n",
       "276        home   mother         2.0        2.0       0.0        no    NaN   \n",
       "\n",
       "    paid activities nursery  studytime_granular higher internet romantic  \\\n",
       "40    no        yes      no                -6.0    yes      yes      yes   \n",
       "74   yes        yes     yes                -6.0    yes      yes       no   \n",
       "103  yes         no     yes                -6.0    yes      yes       no   \n",
       "183   no        yes     yes                -6.0    yes      yes      yes   \n",
       "198   no         no     yes                -3.0    yes      NaN       no   \n",
       "205  yes         no     yes                -9.0    yes      yes      yes   \n",
       "216  yes         no     yes                -6.0    yes      yes      yes   \n",
       "222   no         no     yes                -6.0    yes      yes       no   \n",
       "260  yes         no     yes                -6.0    yes      yes      yes   \n",
       "276   no         no      no                -6.0     no      yes      yes   \n",
       "\n",
       "     famrel  freetime  goout  health  absences  score  \n",
       "40      3.0       3.0    3.0     3.0      25.0   55.0  \n",
       "74      4.0       NaN    3.0     5.0      54.0   55.0  \n",
       "103     4.0       3.0    5.0     2.0      26.0   30.0  \n",
       "183     5.0       3.0    3.0     1.0      56.0   40.0  \n",
       "198     4.0       2.0    4.0     2.0      24.0   90.0  \n",
       "205     4.0       4.0    3.0     5.0      28.0   45.0  \n",
       "216     3.0       4.0    5.0     1.0      22.0   20.0  \n",
       "222     2.0       3.0    1.0     3.0     385.0   85.0  \n",
       "260     3.0       1.0    2.0     2.0      21.0   90.0  \n",
       "276     NaN       1.0    1.0     5.0      75.0   45.0  "
      ]
     },
     "metadata": {},
     "output_type": "display_data"
    },
    {
     "data": {
      "image/png": "[encoded data removed]",
      "text/plain": [
       "<Figure size 1008x288 with 2 Axes>"
      ]
     },
     "metadata": {
      "needs_background": "light"
     },
     "output_type": "display_data"
    },
    {
     "name": "stdout",
     "output_type": "stream",
     "text": [
      "Процент пропусков:  3.04 %\n"
     ]
    },
    {
     "data": {
      "text/markdown": [
       "### score"
      ],
      "text/plain": [
       "<IPython.core.display.Markdown object>"
      ]
     },
     "metadata": {},
     "output_type": "display_data"
    },
    {
     "data": {
      "text/markdown": [
       "баллы по госэкзамену по математике"
      ],
      "text/plain": [
       "<IPython.core.display.Markdown object>"
      ]
     },
     "metadata": {},
     "output_type": "display_data"
    },
    {
     "name": "stdout",
     "output_type": "stream",
     "text": [
      "Ошибки не обнаружены\n"
     ]
    },
    {
     "data": {
      "image/png": "[encoded data removed]",
      "text/plain": [
       "<Figure size 504x288 with 1 Axes>"
      ]
     },
     "metadata": {
      "needs_background": "light"
     },
     "output_type": "display_data"
    },
    {
     "name": "stdout",
     "output_type": "stream",
     "text": [
      "Процент пропусков:  1.52 %\n"
     ]
    }
   ],
   "source": [
    "for col in data.columns:\n",
    "    first_look(data, col, outline_bounds, descriptions)"
   ]
  },
  {
   "cell_type": "markdown",
   "id": "e743f805",
   "metadata": {},
   "source": [
    "## Промежуточные выводы:\n",
    "Данные достаточно чистые, однако есть некоторые проблемы, а именно:\n",
    "\n",
    "* в некоторых переменных (higher, pstatus, school, famrel) наблюдается дисбаланс классов;\n",
    "* на основе age можно создать дополнительную переменную, обЪединяющую редких великовозрастных школьников;\n",
    "* на основе признаков поддержки (schoolsup, famsup) можно создать признак наличия поддержки в общем виде;\n",
    "* в переменных (fedu, famrel) обнаружены ошибки: значения недопустимы по уловиям задания;\n",
    "* в переменных (absences, studytime_granular) присутствуют выбросы;\n",
    "* целевая переменная (score) содержит 1.5% пропусков;\n",
    "* распределение, неописанное по заданию (studytime_granular), напоминает распределение (studytime) (в зеркальном виде)"
   ]
  },
  {
   "cell_type": "code",
   "execution_count": 14,
   "id": "7e81bb30",
   "metadata": {},
   "outputs": [
    {
     "data": {
      "text/plain": [
       "<AxesSubplot:>"
      ]
     },
     "execution_count": 14,
     "metadata": {},
     "output_type": "execute_result"
    },
    {
     "data": {
      "image/png": "[encoded data removed]",
      "text/plain": [
       "<Figure size 576x288 with 1 Axes>"
      ]
     },
     "metadata": {
      "needs_background": "light"
     },
     "output_type": "display_data"
    }
   ],
   "source": [
    "# Отдельно посмотрим на absences\n",
    "plt.figure(figsize=(8, 4))\n",
    "sns.boxplot(data=data['absences'], orient='h',\n",
    "           palette='Set2', whis=1.5)"
   ]
  },
  {
   "cell_type": "markdown",
   "id": "c691508b",
   "metadata": {},
   "source": [
    "Как видим только два значения сильно выбиваются из общей массы. Их сложно объяснить логически и они, скорее всего, лишь запутают будущую модель. Так как мы работаем в условиях весьма ограниченного объема данных, то вместо удаления заменим их на типичное значение - медиану."
   ]
  },
  {
   "cell_type": "markdown",
   "id": "db68b8f5",
   "metadata": {},
   "source": [
    "#### Код предобработки по результатам анализа:"
   ]
  },
  {
   "cell_type": "code",
   "execution_count": 15,
   "id": "fdf73bbf",
   "metadata": {},
   "outputs": [],
   "source": [
    "# В колонках (fedu, famrel) логично предположить, что допущена опечатка, исправим это:\n",
    "data['fedu'] = data.fedu.replace(40, 4)\n",
    "data['famrel'] = data.famrel.replace(-1, 1)\n",
    "\n",
    "# Большие выбросы в колонке (absences) заменим на медиану:\n",
    "data['absences'] = data.absences.apply(\n",
    "    lambda x: data.absences.median() if x > 100 else x)\n",
    "\n",
    "# Добавим новые колонки для age (разделим на две возрастные категории)\n",
    "data['age_cat'] = data.age.apply(lambda x: 'young' if x < 18 else 'old')\n",
    "# для schoolsup и famsup новую колонку, есть ли хоть какая то поддержка\n",
    "data['is_sup'] = np.where((data.schoolsup == 'yes') |\n",
    "                          (data.famsup == 'yes'), 'yes', 'no')\n",
    "\n",
    "# Из датасета удалим строки содержащие пропуски в целевой переменной\n",
    "data.dropna(subset=['score'], inplace=True)"
   ]
  },
  {
   "cell_type": "markdown",
   "id": "3788dd82",
   "metadata": {},
   "source": [
    "В переменной studytime_granular так же в наличии выбросы, но пока с ними ничего делать не будем\n",
    "#### Рассмотрим нашу целевую переменную score подробнее:"
   ]
  },
  {
   "cell_type": "code",
   "execution_count": 16,
   "id": "e1c7f839",
   "metadata": {},
   "outputs": [
    {
     "data": {
      "image/png": "[encoded data removed]",
      "text/plain": [
       "<Figure size 432x288 with 2 Axes>"
      ]
     },
     "metadata": {
      "needs_background": "light"
     },
     "output_type": "display_data"
    },
    {
     "name": "stdout",
     "output_type": "stream",
     "text": [
      "Ошибки не обнаружены\n"
     ]
    }
   ],
   "source": [
    "fig, axes = plt.subplots(ncols=2, figsize=(6, 4))\n",
    "\n",
    "sns.boxplot(data=data['score'], orient='h',\n",
    "           palette='Set2', whis=1.5, ax=axes[0]);\n",
    "data['score'].hist(bins=20, ax=axes[1])\n",
    "fig.tight_layout(rect=[-1, 0.03, 1, 0.95])\n",
    "plt.show()\n",
    "search_mistakes(data, 'score', outline_bounds)"
   ]
  },
  {
   "cell_type": "markdown",
   "id": "8090a5ab",
   "metadata": {},
   "source": [
    "#### Обращаем внимание:\n",
    "* более 30 учеников, получивших 0 баллов\n",
    "* \"яма\" в диапазоне от 0 до 20 после чего начинается нормальное распредление\n",
    "* выбросов и ошибок нет\n",
    "\n",
    "Провал, на наш взгляд, можно объяснить только наличием \"проходного балла\", т.е., если школьник не набрал \"пороговое\" значение 20, то ему проставлялся 0. Вообще, большое колличесвство 0 оценок выглядит подозрительно (с точки зрения больших чисел нулевых оценок должно быть столько же, сколько и стобалльных). Но на этапе разведывательного анализа считаем, что правильнее эти значения оставить, и посмотретьсможет ли будущая модель предсказывать склонных к провалу экзамена учеников. "
   ]
  },
  {
   "cell_type": "markdown",
   "id": "df2137cc",
   "metadata": {},
   "source": [
    "# 3. Корреляционный анализ количественных признаков. <a name=\"3\"></a>"
   ]
  },
  {
   "cell_type": "markdown",
   "id": "ad06c478",
   "metadata": {},
   "source": [
    "Выясним какие столбцы коррелируют с оценкой на госэкзамене по математике. Это поможет понять какие признаки стоит оставить для модели, а какие нужно будет исключить из анализа.\n",
    "* #### по количественным переменным: "
   ]
  },
  {
   "cell_type": "code",
   "execution_count": 17,
   "id": "801f2945",
   "metadata": {},
   "outputs": [
    {
     "data": {
      "text/plain": [
       "<seaborn.axisgrid.PairGrid at 0x1ba7a540f10>"
      ]
     },
     "execution_count": 17,
     "metadata": {},
     "output_type": "execute_result"
    },
    {
     "data": {
      "image/png": "[encoded data removed]",
      "text/plain": [
       "<Figure size 540x540 with 12 Axes>"
      ]
     },
     "metadata": {
      "needs_background": "light"
     },
     "output_type": "display_data"
    }
   ],
   "source": [
    "data_num = ['age', 'absences', 'score']\n",
    "sns.pairplot(data[data_num], kind='reg')"
   ]
  },
  {
   "cell_type": "code",
   "execution_count": 18,
   "id": "4f425fde",
   "metadata": {
    "scrolled": false
   },
   "outputs": [
    {
     "data": {
      "text/html": [
       "<div>\n",
       "<style scoped>\n",
       "    .dataframe tbody tr th:only-of-type {\n",
       "        vertical-align: middle;\n",
       "    }\n",
       "\n",
       "    .dataframe tbody tr th {\n",
       "        vertical-align: top;\n",
       "    }\n",
       "\n",
       "    .dataframe thead th {\n",
       "        text-align: right;\n",
       "    }\n",
       "</style>\n",
       "<table border=\"1\" class=\"dataframe\">\n",
       "  <thead>\n",
       "    <tr style=\"text-align: right;\">\n",
       "      <th></th>\n",
       "      <th>age</th>\n",
       "      <th>absences</th>\n",
       "      <th>score</th>\n",
       "    </tr>\n",
       "  </thead>\n",
       "  <tbody>\n",
       "    <tr>\n",
       "      <th>age</th>\n",
       "      <td>1.000000</td>\n",
       "      <td>0.169071</td>\n",
       "      <td>-0.155726</td>\n",
       "    </tr>\n",
       "    <tr>\n",
       "      <th>absences</th>\n",
       "      <td>0.169071</td>\n",
       "      <td>1.000000</td>\n",
       "      <td>0.030943</td>\n",
       "    </tr>\n",
       "    <tr>\n",
       "      <th>score</th>\n",
       "      <td>-0.155726</td>\n",
       "      <td>0.030943</td>\n",
       "      <td>1.000000</td>\n",
       "    </tr>\n",
       "  </tbody>\n",
       "</table>\n",
       "</div>"
      ],
      "text/plain": [
       "               age  absences     score\n",
       "age       1.000000  0.169071 -0.155726\n",
       "absences  0.169071  1.000000  0.030943\n",
       "score    -0.155726  0.030943  1.000000"
      ]
     },
     "execution_count": 18,
     "metadata": {},
     "output_type": "execute_result"
    }
   ],
   "source": [
    "data[data_num].corr()"
   ]
  },
  {
   "cell_type": "markdown",
   "id": "486e5a14",
   "metadata": {},
   "source": [
    "Как видим линейная связь absences со score очень не значительна. Проверим наличие нелинейной связи."
   ]
  },
  {
   "cell_type": "code",
   "execution_count": 19,
   "id": "cbb6448a",
   "metadata": {},
   "outputs": [
    {
     "data": {
      "text/plain": [
       "<AxesSubplot:xlabel='absences', ylabel='score'>"
      ]
     },
     "execution_count": 19,
     "metadata": {},
     "output_type": "execute_result"
    },
    {
     "data": {
      "image/png": "[encoded data removed]",
      "text/plain": [
       "<Figure size 1008x504 with 1 Axes>"
      ]
     },
     "metadata": {
      "needs_background": "light"
     },
     "output_type": "display_data"
    }
   ],
   "source": [
    "plt.figure(figsize=(14, 7))\n",
    "sns.lineplot(data=data, x='absences', y='score')"
   ]
  },
  {
   "cell_type": "markdown",
   "id": "893b1914",
   "metadata": {},
   "source": [
    "Делаем вывод о низкой значимости предиктора для будущей модели"
   ]
  },
  {
   "cell_type": "markdown",
   "id": "13729a6c",
   "metadata": {},
   "source": [
    "* #### по количественным и смешаным переменным: "
   ]
  },
  {
   "cell_type": "code",
   "execution_count": 20,
   "id": "533eb306",
   "metadata": {},
   "outputs": [
    {
     "data": {
      "image/png": "[encoded data removed]",
      "text/plain": [
       "<Figure size 720x720 with 2 Axes>"
      ]
     },
     "metadata": {},
     "output_type": "display_data"
    }
   ],
   "source": [
    "corr = data.corr()\n",
    "mask = np.zeros_like(corr)\n",
    "mask[np.triu_indices_from(mask)] = True\n",
    "with sns.axes_style('white'):\n",
    "    f, ax = plt.subplots(figsize=(10, 10))\n",
    "    ax = sns.heatmap(corr, mask=mask, annot=True, square=True)"
   ]
  },
  {
   "cell_type": "markdown",
   "id": "61419bea",
   "metadata": {},
   "source": [
    "Как видим, не описанная в условии переменная \"studytime_granular\" имеет полную обратную корреляцию с \"studytime\". Соответственно, она не несет дополнительной информации и ее следует удалить. Так же довольно сильная линейная зависимость между переменными \"fedu\", \"medu\". Это можно испольховать для:\n",
    "* восстановления пропущенных значений\n",
    "* генерации дополнительного признака на основе двух исходных."
   ]
  },
  {
   "cell_type": "code",
   "execution_count": 21,
   "id": "71569409",
   "metadata": {},
   "outputs": [
    {
     "data": {
      "text/markdown": [
       "#### Коррелирующие значения в порядке убывания"
      ],
      "text/plain": [
       "<IPython.core.display.Markdown object>"
      ]
     },
     "metadata": {},
     "output_type": "display_data"
    },
    {
     "data": {
      "text/html": [
       "<div>\n",
       "<style scoped>\n",
       "    .dataframe tbody tr th:only-of-type {\n",
       "        vertical-align: middle;\n",
       "    }\n",
       "\n",
       "    .dataframe tbody tr th {\n",
       "        vertical-align: top;\n",
       "    }\n",
       "\n",
       "    .dataframe thead th {\n",
       "        text-align: right;\n",
       "    }\n",
       "</style>\n",
       "<table border=\"1\" class=\"dataframe\">\n",
       "  <thead>\n",
       "    <tr style=\"text-align: right;\">\n",
       "      <th></th>\n",
       "      <th>correlation</th>\n",
       "      <th>correlation_amount</th>\n",
       "    </tr>\n",
       "  </thead>\n",
       "  <tbody>\n",
       "    <tr>\n",
       "      <th>failures</th>\n",
       "      <td>-0.344338</td>\n",
       "      <td>0.344338</td>\n",
       "    </tr>\n",
       "    <tr>\n",
       "      <th>medu</th>\n",
       "      <td>0.213349</td>\n",
       "      <td>0.213349</td>\n",
       "    </tr>\n",
       "    <tr>\n",
       "      <th>age</th>\n",
       "      <td>-0.155726</td>\n",
       "      <td>0.155726</td>\n",
       "    </tr>\n",
       "    <tr>\n",
       "      <th>fedu</th>\n",
       "      <td>0.130923</td>\n",
       "      <td>0.130923</td>\n",
       "    </tr>\n",
       "    <tr>\n",
       "      <th>goout</th>\n",
       "      <td>-0.129685</td>\n",
       "      <td>0.129685</td>\n",
       "    </tr>\n",
       "    <tr>\n",
       "      <th>studytime</th>\n",
       "      <td>0.115741</td>\n",
       "      <td>0.115741</td>\n",
       "    </tr>\n",
       "    <tr>\n",
       "      <th>studytime_granular</th>\n",
       "      <td>-0.115741</td>\n",
       "      <td>0.115741</td>\n",
       "    </tr>\n",
       "    <tr>\n",
       "      <th>traveltime</th>\n",
       "      <td>-0.070559</td>\n",
       "      <td>0.070559</td>\n",
       "    </tr>\n",
       "    <tr>\n",
       "      <th>health</th>\n",
       "      <td>-0.070460</td>\n",
       "      <td>0.070460</td>\n",
       "    </tr>\n",
       "    <tr>\n",
       "      <th>famrel</th>\n",
       "      <td>0.055305</td>\n",
       "      <td>0.055305</td>\n",
       "    </tr>\n",
       "    <tr>\n",
       "      <th>absences</th>\n",
       "      <td>0.030943</td>\n",
       "      <td>0.030943</td>\n",
       "    </tr>\n",
       "    <tr>\n",
       "      <th>freetime</th>\n",
       "      <td>0.019026</td>\n",
       "      <td>0.019026</td>\n",
       "    </tr>\n",
       "  </tbody>\n",
       "</table>\n",
       "</div>"
      ],
      "text/plain": [
       "                    correlation  correlation_amount\n",
       "failures              -0.344338            0.344338\n",
       "medu                   0.213349            0.213349\n",
       "age                   -0.155726            0.155726\n",
       "fedu                   0.130923            0.130923\n",
       "goout                 -0.129685            0.129685\n",
       "studytime              0.115741            0.115741\n",
       "studytime_granular    -0.115741            0.115741\n",
       "traveltime            -0.070559            0.070559\n",
       "health                -0.070460            0.070460\n",
       "famrel                 0.055305            0.055305\n",
       "absences               0.030943            0.030943\n",
       "freetime               0.019026            0.019026"
      ]
     },
     "execution_count": 21,
     "metadata": {},
     "output_type": "execute_result"
    }
   ],
   "source": [
    "# Сделаем отдельный датафрейм для коррелирующих значений\n",
    "score_corr_df = pd.DataFrame(data.corr()['score'].values,\n",
    "                            index=data.corr()['score'].index,\n",
    "                            columns=['correlation'])\n",
    "score_corr_df = score_corr_df.drop('score')\n",
    "\n",
    "score_corr_df['correlation_amount'] = abs(score_corr_df.correlation)  # Корреляция по модулю\n",
    "printmd('#### Коррелирующие значения в порядке убывания')\n",
    "score_corr_df.sort_values(by='correlation_amount', ascending=False)"
   ]
  },
  {
   "cell_type": "markdown",
   "id": "1ca6d52a",
   "metadata": {},
   "source": [
    "Из этой таблицы можно сделать вывод, что больше всего в обучении мешают проблемы вне учебных неудач, а так же юный возраст и активное общение с друзьями.  А позитивно на результатах сказывается образование родителей и самостоятельное обучение. Как ни странно, количество прогулов и свободного времени после занятий не оказывает заметного влияния на результаты экзамена.\n",
    "\n",
    "В целях очистки датасета, удалим столбцы с значениями корреляции ниже 0.1, однако для будущей модели, возможно, их тоже можно было бы принять к рассмотрению, если останется время на экспиременты."
   ]
  },
  {
   "cell_type": "code",
   "execution_count": 22,
   "id": "b8737796",
   "metadata": {},
   "outputs": [],
   "source": [
    "# Код предобработки на основе корреляционного анализа:\n",
    "data.drop('studytime_granular', axis=1, inplace=True)\n",
    "data.drop(score_corr_df[score_corr_df.correlation_amount < 0.1].index, axis=1, inplace=True)\n",
    "data['fam_edu'] = data['fedu'] + data['medu']"
   ]
  },
  {
   "cell_type": "markdown",
   "id": "c656c3a5",
   "metadata": {},
   "source": [
    "# 4. Визуальный анализ номинативных признаков, оценка количества уникальных значений. <a name=\"4\"></a>"
   ]
  },
  {
   "cell_type": "code",
   "execution_count": 23,
   "id": "7f828530",
   "metadata": {
    "scrolled": true
   },
   "outputs": [
    {
     "data": {
      "image/png": "[encoded data removed]",
      "text/plain": [
       "<Figure size 576x288 with 1 Axes>"
      ]
     },
     "metadata": {
      "needs_background": "light"
     },
     "output_type": "display_data"
    },
    {
     "data": {
      "image/png": "[encoded data removed]",
      "text/plain": [
       "<Figure size 576x288 with 1 Axes>"
      ]
     },
     "metadata": {
      "needs_background": "light"
     },
     "output_type": "display_data"
    },
    {
     "data": {
      "image/png": "[encoded data removed]",
      "text/plain": [
       "<Figure size 576x288 with 1 Axes>"
      ]
     },
     "metadata": {
      "needs_background": "light"
     },
     "output_type": "display_data"
    },
    {
     "data": {
      "image/png": "[encoded data removed]",
      "text/plain": [
       "<Figure size 576x288 with 1 Axes>"
      ]
     },
     "metadata": {
      "needs_background": "light"
     },
     "output_type": "display_data"
    },
    {
     "data": {
      "image/png": "[encoded data removed]",
      "text/plain": [
       "<Figure size 576x288 with 1 Axes>"
      ]
     },
     "metadata": {
      "needs_background": "light"
     },
     "output_type": "display_data"
    },
    {
     "data": {
      "image/png": "[encoded data removed]",
      "text/plain": [
       "<Figure size 576x288 with 1 Axes>"
      ]
     },
     "metadata": {
      "needs_background": "light"
     },
     "output_type": "display_data"
    },
    {
     "data": {
      "image/png": "[encoded data removed]",
      "text/plain": [
       "<Figure size 576x288 with 1 Axes>"
      ]
     },
     "metadata": {
      "needs_background": "light"
     },
     "output_type": "display_data"
    },
    {
     "data": {
      "image/png": "[encoded data removed]",
      "text/plain": [
       "<Figure size 576x288 with 1 Axes>"
      ]
     },
     "metadata": {
      "needs_background": "light"
     },
     "output_type": "display_data"
    },
    {
     "data": {
      "image/png": "[encoded data removed]",
      "text/plain": [
       "<Figure size 576x288 with 1 Axes>"
      ]
     },
     "metadata": {
      "needs_background": "light"
     },
     "output_type": "display_data"
    },
    {
     "data": {
      "image/png": "[encoded data removed]",
      "text/plain": [
       "<Figure size 576x288 with 1 Axes>"
      ]
     },
     "metadata": {
      "needs_background": "light"
     },
     "output_type": "display_data"
    },
    {
     "data": {
      "image/png": "[encoded data removed]",
      "text/plain": [
       "<Figure size 576x288 with 1 Axes>"
      ]
     },
     "metadata": {
      "needs_background": "light"
     },
     "output_type": "display_data"
    },
    {
     "data": {
      "image/png": "[encoded data removed]",
      "text/plain": [
       "<Figure size 576x288 with 1 Axes>"
      ]
     },
     "metadata": {
      "needs_background": "light"
     },
     "output_type": "display_data"
    },
    {
     "data": {
      "image/png": "[encoded data removed]",
      "text/plain": [
       "<Figure size 576x288 with 1 Axes>"
      ]
     },
     "metadata": {
      "needs_background": "light"
     },
     "output_type": "display_data"
    },
    {
     "data": {
      "image/png": "[encoded data removed]",
      "text/plain": [
       "<Figure size 576x288 with 1 Axes>"
      ]
     },
     "metadata": {
      "needs_background": "light"
     },
     "output_type": "display_data"
    },
    {
     "data": {
      "image/png": "[encoded data removed]",
      "text/plain": [
       "<Figure size 576x288 with 1 Axes>"
      ]
     },
     "metadata": {
      "needs_background": "light"
     },
     "output_type": "display_data"
    },
    {
     "data": {
      "image/png": "[encoded data removed]",
      "text/plain": [
       "<Figure size 576x288 with 1 Axes>"
      ]
     },
     "metadata": {
      "needs_background": "light"
     },
     "output_type": "display_data"
    },
    {
     "data": {
      "image/png": "[encoded data removed]",
      "text/plain": [
       "<Figure size 576x288 with 1 Axes>"
      ]
     },
     "metadata": {
      "needs_background": "light"
     },
     "output_type": "display_data"
    },
    {
     "data": {
      "image/png": "[encoded data removed]",
      "text/plain": [
       "<Figure size 576x288 with 1 Axes>"
      ]
     },
     "metadata": {
      "needs_background": "light"
     },
     "output_type": "display_data"
    },
    {
     "data": {
      "image/png": "[encoded data removed]",
      "text/plain": [
       "<Figure size 576x288 with 1 Axes>"
      ]
     },
     "metadata": {
      "needs_background": "light"
     },
     "output_type": "display_data"
    },
    {
     "data": {
      "image/png": "[encoded data removed]",
      "text/plain": [
       "<Figure size 576x288 with 1 Axes>"
      ]
     },
     "metadata": {
      "needs_background": "light"
     },
     "output_type": "display_data"
    },
    {
     "data": {
      "image/png": "[encoded data removed]",
      "text/plain": [
       "<Figure size 576x288 with 1 Axes>"
      ]
     },
     "metadata": {
      "needs_background": "light"
     },
     "output_type": "display_data"
    },
    {
     "data": {
      "image/png": "[encoded data removed]",
      "text/plain": [
       "<Figure size 576x288 with 1 Axes>"
      ]
     },
     "metadata": {
      "needs_background": "light"
     },
     "output_type": "display_data"
    },
    {
     "data": {
      "image/png": "[encoded data removed]",
      "text/plain": [
       "<Figure size 576x288 with 1 Axes>"
      ]
     },
     "metadata": {
      "needs_background": "light"
     },
     "output_type": "display_data"
    },
    {
     "data": {
      "image/png": "[encoded data removed]",
      "text/plain": [
       "<Figure size 576x288 with 1 Axes>"
      ]
     },
     "metadata": {
      "needs_background": "light"
     },
     "output_type": "display_data"
    },
    {
     "data": {
      "image/png": "[encoded data removed]",
      "text/plain": [
       "<Figure size 576x288 with 1 Axes>"
      ]
     },
     "metadata": {
      "needs_background": "light"
     },
     "output_type": "display_data"
    }
   ],
   "source": [
    "nom_cols = list(set(data.columns) - set(['age', 'absences', 'score']))\n",
    "for col in nom_cols:\n",
    "    get_boxplot(data, col)"
   ]
  },
  {
   "cell_type": "markdown",
   "id": "2cae698f",
   "metadata": {},
   "source": [
    "#### Промежуточный вывод:"
   ]
  },
  {
   "cell_type": "markdown",
   "id": "689807c3",
   "metadata": {},
   "source": [
    "По fjob видим, что боксплот teacher (отец работает учителем), сильно отличается от других по медианной оценке. В этом случае можно помочь модели и создать признак, который говорит что если отец школьника учитель, то у него будет высокая успеваемость."
   ]
  },
  {
   "cell_type": "code",
   "execution_count": 24,
   "id": "e7fc9e17",
   "metadata": {},
   "outputs": [],
   "source": [
    "data['is_dad_teacher'] = data.fjob.apply(lambda x: 1 if x == 'teacher' else 0)"
   ]
  },
  {
   "cell_type": "markdown",
   "id": "2cd6f3ca",
   "metadata": {},
   "source": [
    "Можем отметить следующие перспективные предикторы для моделирования:"
   ]
  },
  {
   "cell_type": "markdown",
   "id": "57fe18bf",
   "metadata": {},
   "source": [
    "* schoolsup\n",
    "* fedu\n",
    "* fam_edu\n",
    "* failures\n",
    "* mjob\n",
    "* medu\n",
    "* is_dad_teacher\n",
    "* higher\n",
    "* age_cat\n",
    "* goout\n",
    "* school\n",
    "* address\n",
    "* studytime"
   ]
  },
  {
   "cell_type": "markdown",
   "id": "b71ed40f",
   "metadata": {},
   "source": [
    "# 5. t-test номинативных и смешанных переменных. <a name=\"5\"></a>"
   ]
  },
  {
   "cell_type": "markdown",
   "id": "d702b33e",
   "metadata": {},
   "source": [
    "С помощью теста Стьдента проверим есть ли статистическая разница в распределении оценок по номинативным признакам, проверим нулевую гипотезу о том, что распределение оценок по госэкзамену в зависимости от уровней категорий не различимы"
   ]
  },
  {
   "cell_type": "code",
   "execution_count": 25,
   "id": "2628fbb7",
   "metadata": {},
   "outputs": [
    {
     "name": "stdout",
     "output_type": "stream",
     "text": [
      "Найдены статисчтические значимые различия для колонки goout\n",
      "Найдены статисчтические значимые различия для колонки address\n",
      "Найдены статисчтические значимые различия для колонки fam_edu\n",
      "Найдены статисчтические значимые различия для колонки sex\n",
      "Найдены статисчтические значимые различия для колонки romantic\n",
      "Найдены статисчтические значимые различия для колонки age_cat\n",
      "Найдены статисчтические значимые различия для колонки paid\n",
      "Найдены статисчтические значимые различия для колонки mjob\n",
      "Найдены статисчтические значимые различия для колонки medu\n",
      "Найдены статисчтические значимые различия для колонки is_dad_teacher\n",
      "Найдены статисчтические значимые различия для колонки higher\n",
      "Найдены статисчтические значимые различия для колонки failures\n",
      "Найдены статисчтические значимые различия для колонки fedu\n"
     ]
    }
   ],
   "source": [
    "nom_cols = list(set(data.columns) - set(['age', 'absences', 'score']))\n",
    "lst = []\n",
    "for col in nom_cols:\n",
    "    if get_stat_dif(data, col):\n",
    "        lst.append(col)"
   ]
  },
  {
   "cell_type": "markdown",
   "id": "1f4917d0",
   "metadata": {},
   "source": [
    "Тест Стьдента и анализ номинативных переменных с помощью boxplot-графиков взаимодополняющие методы, а не взаимоисключающие. Поэтому на этапе EDA следует оставлять признаки, которые показались информативными и в первом и во втором случае."
   ]
  },
  {
   "cell_type": "code",
   "execution_count": 26,
   "id": "c8f0ab60",
   "metadata": {},
   "outputs": [],
   "source": [
    "# Итоговый датафрейм\n",
    "list_columns = set(['schoolsup', 'fedu', 'fam_edu', 'failures', 'mjob',\n",
    "                    'medu', 'is_dad_teacher', 'higher', 'age_cat', 'goout',\n",
    "                    'school', 'address', 'studytime', 'age', 'score'] + lst)\n",
    "data = data[list_columns]"
   ]
  },
  {
   "cell_type": "code",
   "execution_count": 27,
   "id": "f73dd769",
   "metadata": {},
   "outputs": [
    {
     "data": {
      "text/html": [
       "<div>\n",
       "<style scoped>\n",
       "    .dataframe tbody tr th:only-of-type {\n",
       "        vertical-align: middle;\n",
       "    }\n",
       "\n",
       "    .dataframe tbody tr th {\n",
       "        vertical-align: top;\n",
       "    }\n",
       "\n",
       "    .dataframe thead th {\n",
       "        text-align: right;\n",
       "    }\n",
       "</style>\n",
       "<table border=\"1\" class=\"dataframe\">\n",
       "  <thead>\n",
       "    <tr style=\"text-align: right;\">\n",
       "      <th></th>\n",
       "      <th>goout</th>\n",
       "      <th>school</th>\n",
       "      <th>mjob</th>\n",
       "      <th>medu</th>\n",
       "      <th>is_dad_teacher</th>\n",
       "      <th>fam_edu</th>\n",
       "      <th>higher</th>\n",
       "      <th>address</th>\n",
       "      <th>studytime</th>\n",
       "      <th>failures</th>\n",
       "      <th>sex</th>\n",
       "      <th>romantic</th>\n",
       "      <th>fedu</th>\n",
       "      <th>schoolsup</th>\n",
       "      <th>age_cat</th>\n",
       "      <th>age</th>\n",
       "      <th>score</th>\n",
       "      <th>paid</th>\n",
       "    </tr>\n",
       "  </thead>\n",
       "  <tbody>\n",
       "    <tr>\n",
       "      <th>0</th>\n",
       "      <td>4.0</td>\n",
       "      <td>GP</td>\n",
       "      <td>at_home</td>\n",
       "      <td>4.0</td>\n",
       "      <td>1</td>\n",
       "      <td>8.0</td>\n",
       "      <td>yes</td>\n",
       "      <td>U</td>\n",
       "      <td>2.0</td>\n",
       "      <td>0.0</td>\n",
       "      <td>F</td>\n",
       "      <td>no</td>\n",
       "      <td>4.0</td>\n",
       "      <td>yes</td>\n",
       "      <td>old</td>\n",
       "      <td>18</td>\n",
       "      <td>30.0</td>\n",
       "      <td>no</td>\n",
       "    </tr>\n",
       "    <tr>\n",
       "      <th>1</th>\n",
       "      <td>3.0</td>\n",
       "      <td>GP</td>\n",
       "      <td>at_home</td>\n",
       "      <td>1.0</td>\n",
       "      <td>0</td>\n",
       "      <td>2.0</td>\n",
       "      <td>yes</td>\n",
       "      <td>U</td>\n",
       "      <td>2.0</td>\n",
       "      <td>0.0</td>\n",
       "      <td>F</td>\n",
       "      <td>no</td>\n",
       "      <td>1.0</td>\n",
       "      <td>no</td>\n",
       "      <td>young</td>\n",
       "      <td>17</td>\n",
       "      <td>30.0</td>\n",
       "      <td>no</td>\n",
       "    </tr>\n",
       "    <tr>\n",
       "      <th>2</th>\n",
       "      <td>2.0</td>\n",
       "      <td>GP</td>\n",
       "      <td>at_home</td>\n",
       "      <td>1.0</td>\n",
       "      <td>0</td>\n",
       "      <td>2.0</td>\n",
       "      <td>yes</td>\n",
       "      <td>U</td>\n",
       "      <td>2.0</td>\n",
       "      <td>3.0</td>\n",
       "      <td>F</td>\n",
       "      <td>NaN</td>\n",
       "      <td>1.0</td>\n",
       "      <td>yes</td>\n",
       "      <td>young</td>\n",
       "      <td>15</td>\n",
       "      <td>50.0</td>\n",
       "      <td>NaN</td>\n",
       "    </tr>\n",
       "    <tr>\n",
       "      <th>3</th>\n",
       "      <td>2.0</td>\n",
       "      <td>GP</td>\n",
       "      <td>health</td>\n",
       "      <td>4.0</td>\n",
       "      <td>0</td>\n",
       "      <td>6.0</td>\n",
       "      <td>yes</td>\n",
       "      <td>U</td>\n",
       "      <td>3.0</td>\n",
       "      <td>0.0</td>\n",
       "      <td>F</td>\n",
       "      <td>yes</td>\n",
       "      <td>2.0</td>\n",
       "      <td>no</td>\n",
       "      <td>young</td>\n",
       "      <td>15</td>\n",
       "      <td>75.0</td>\n",
       "      <td>yes</td>\n",
       "    </tr>\n",
       "    <tr>\n",
       "      <th>4</th>\n",
       "      <td>2.0</td>\n",
       "      <td>GP</td>\n",
       "      <td>other</td>\n",
       "      <td>3.0</td>\n",
       "      <td>0</td>\n",
       "      <td>6.0</td>\n",
       "      <td>yes</td>\n",
       "      <td>U</td>\n",
       "      <td>2.0</td>\n",
       "      <td>0.0</td>\n",
       "      <td>F</td>\n",
       "      <td>no</td>\n",
       "      <td>3.0</td>\n",
       "      <td>no</td>\n",
       "      <td>young</td>\n",
       "      <td>16</td>\n",
       "      <td>50.0</td>\n",
       "      <td>yes</td>\n",
       "    </tr>\n",
       "  </tbody>\n",
       "</table>\n",
       "</div>"
      ],
      "text/plain": [
       "   goout school     mjob  medu  is_dad_teacher  fam_edu higher address  \\\n",
       "0    4.0     GP  at_home   4.0               1      8.0    yes       U   \n",
       "1    3.0     GP  at_home   1.0               0      2.0    yes       U   \n",
       "2    2.0     GP  at_home   1.0               0      2.0    yes       U   \n",
       "3    2.0     GP   health   4.0               0      6.0    yes       U   \n",
       "4    2.0     GP    other   3.0               0      6.0    yes       U   \n",
       "\n",
       "   studytime  failures sex romantic  fedu schoolsup age_cat  age  score paid  \n",
       "0        2.0       0.0   F       no   4.0       yes     old   18   30.0   no  \n",
       "1        2.0       0.0   F       no   1.0        no   young   17   30.0   no  \n",
       "2        2.0       3.0   F      NaN   1.0       yes   young   15   50.0  NaN  \n",
       "3        3.0       0.0   F      yes   2.0        no   young   15   75.0  yes  \n",
       "4        2.0       0.0   F       no   3.0        no   young   16   50.0  yes  "
      ]
     },
     "execution_count": 27,
     "metadata": {},
     "output_type": "execute_result"
    }
   ],
   "source": [
    "data.head()"
   ]
  },
  {
   "cell_type": "markdown",
   "id": "f9240da9",
   "metadata": {},
   "source": [
    "# 6. Заполнение пропусков. <a name=\"6\"></a>"
   ]
  },
  {
   "cell_type": "markdown",
   "id": "06783db2",
   "metadata": {},
   "source": [
    "Заполнение пропусков обширная и тонкая тема, и там иногда применяются весьма сложные техники. В нашей таблице не так уж и велико отношение количества пропусков к количеству всех элементов (не более 12%!), поэтому в даном случае имплементацией можно принебречь.\n",
    "\n",
    "Однако, да бы избежать ошибок при подаче в ML алгоритм, как вариант, использовать простые способы заполнения пропусков. Кроме заполнения модой, номинативные признаки можно заполнять случайным значением переменной, с учетом вероятности появления уровня категории в заполненой переменной. Так мы сохраним исходное распределение."
   ]
  },
  {
   "cell_type": "code",
   "execution_count": 29,
   "id": "f0c795c4",
   "metadata": {},
   "outputs": [],
   "source": [
    "# Восстанавливаем пропущенные значения, используя сильную линейную зависимость:\n",
    "data['fedu'] = np.where(data.fedu.isna(), data.medu, data.fedu)\n",
    "data['medu'] = np.where(data.fedu.isna(), data.fedu, data.medu)\n",
    "\n",
    "# Заполняем числовые пропуски медианой, остальные - на основе вероятности появления:\n",
    "for col in data.columns:\n",
    "    data[col] = fill_na(data, col, method='auto')"
   ]
  },
  {
   "cell_type": "code",
   "execution_count": 34,
   "id": "ca5fd41d",
   "metadata": {},
   "outputs": [
    {
     "data": {
      "text/html": [
       "<div>\n",
       "<style scoped>\n",
       "    .dataframe tbody tr th:only-of-type {\n",
       "        vertical-align: middle;\n",
       "    }\n",
       "\n",
       "    .dataframe tbody tr th {\n",
       "        vertical-align: top;\n",
       "    }\n",
       "\n",
       "    .dataframe thead th {\n",
       "        text-align: right;\n",
       "    }\n",
       "</style>\n",
       "<table border=\"1\" class=\"dataframe\">\n",
       "  <thead>\n",
       "    <tr style=\"text-align: right;\">\n",
       "      <th></th>\n",
       "      <th>goout</th>\n",
       "      <th>school</th>\n",
       "      <th>mjob</th>\n",
       "      <th>medu</th>\n",
       "      <th>is_dad_teacher</th>\n",
       "      <th>fam_edu</th>\n",
       "      <th>higher</th>\n",
       "      <th>address</th>\n",
       "      <th>studytime</th>\n",
       "      <th>failures</th>\n",
       "      <th>sex</th>\n",
       "      <th>romantic</th>\n",
       "      <th>fedu</th>\n",
       "      <th>schoolsup</th>\n",
       "      <th>age_cat</th>\n",
       "      <th>age</th>\n",
       "      <th>score</th>\n",
       "      <th>paid</th>\n",
       "    </tr>\n",
       "  </thead>\n",
       "  <tbody>\n",
       "    <tr>\n",
       "      <th>0</th>\n",
       "      <td>4.0</td>\n",
       "      <td>GP</td>\n",
       "      <td>at_home</td>\n",
       "      <td>4.0</td>\n",
       "      <td>1</td>\n",
       "      <td>8.0</td>\n",
       "      <td>yes</td>\n",
       "      <td>U</td>\n",
       "      <td>2.0</td>\n",
       "      <td>0.0</td>\n",
       "      <td>F</td>\n",
       "      <td>no</td>\n",
       "      <td>4.0</td>\n",
       "      <td>yes</td>\n",
       "      <td>old</td>\n",
       "      <td>18</td>\n",
       "      <td>30.0</td>\n",
       "      <td>no</td>\n",
       "    </tr>\n",
       "    <tr>\n",
       "      <th>1</th>\n",
       "      <td>3.0</td>\n",
       "      <td>GP</td>\n",
       "      <td>at_home</td>\n",
       "      <td>1.0</td>\n",
       "      <td>0</td>\n",
       "      <td>2.0</td>\n",
       "      <td>yes</td>\n",
       "      <td>U</td>\n",
       "      <td>2.0</td>\n",
       "      <td>0.0</td>\n",
       "      <td>F</td>\n",
       "      <td>no</td>\n",
       "      <td>1.0</td>\n",
       "      <td>no</td>\n",
       "      <td>young</td>\n",
       "      <td>17</td>\n",
       "      <td>30.0</td>\n",
       "      <td>no</td>\n",
       "    </tr>\n",
       "    <tr>\n",
       "      <th>2</th>\n",
       "      <td>2.0</td>\n",
       "      <td>GP</td>\n",
       "      <td>at_home</td>\n",
       "      <td>1.0</td>\n",
       "      <td>0</td>\n",
       "      <td>2.0</td>\n",
       "      <td>yes</td>\n",
       "      <td>U</td>\n",
       "      <td>2.0</td>\n",
       "      <td>3.0</td>\n",
       "      <td>F</td>\n",
       "      <td>no</td>\n",
       "      <td>1.0</td>\n",
       "      <td>yes</td>\n",
       "      <td>young</td>\n",
       "      <td>15</td>\n",
       "      <td>50.0</td>\n",
       "      <td>yes</td>\n",
       "    </tr>\n",
       "    <tr>\n",
       "      <th>3</th>\n",
       "      <td>2.0</td>\n",
       "      <td>GP</td>\n",
       "      <td>health</td>\n",
       "      <td>4.0</td>\n",
       "      <td>0</td>\n",
       "      <td>6.0</td>\n",
       "      <td>yes</td>\n",
       "      <td>U</td>\n",
       "      <td>3.0</td>\n",
       "      <td>0.0</td>\n",
       "      <td>F</td>\n",
       "      <td>yes</td>\n",
       "      <td>2.0</td>\n",
       "      <td>no</td>\n",
       "      <td>young</td>\n",
       "      <td>15</td>\n",
       "      <td>75.0</td>\n",
       "      <td>yes</td>\n",
       "    </tr>\n",
       "    <tr>\n",
       "      <th>4</th>\n",
       "      <td>2.0</td>\n",
       "      <td>GP</td>\n",
       "      <td>other</td>\n",
       "      <td>3.0</td>\n",
       "      <td>0</td>\n",
       "      <td>6.0</td>\n",
       "      <td>yes</td>\n",
       "      <td>U</td>\n",
       "      <td>2.0</td>\n",
       "      <td>0.0</td>\n",
       "      <td>F</td>\n",
       "      <td>no</td>\n",
       "      <td>3.0</td>\n",
       "      <td>no</td>\n",
       "      <td>young</td>\n",
       "      <td>16</td>\n",
       "      <td>50.0</td>\n",
       "      <td>yes</td>\n",
       "    </tr>\n",
       "  </tbody>\n",
       "</table>\n",
       "</div>"
      ],
      "text/plain": [
       "   goout school     mjob  medu  is_dad_teacher  fam_edu higher address  \\\n",
       "0    4.0     GP  at_home   4.0               1      8.0    yes       U   \n",
       "1    3.0     GP  at_home   1.0               0      2.0    yes       U   \n",
       "2    2.0     GP  at_home   1.0               0      2.0    yes       U   \n",
       "3    2.0     GP   health   4.0               0      6.0    yes       U   \n",
       "4    2.0     GP    other   3.0               0      6.0    yes       U   \n",
       "\n",
       "   studytime  failures sex romantic  fedu schoolsup age_cat  age  score paid  \n",
       "0        2.0       0.0   F       no   4.0       yes     old   18   30.0   no  \n",
       "1        2.0       0.0   F       no   1.0        no   young   17   30.0   no  \n",
       "2        2.0       3.0   F       no   1.0       yes   young   15   50.0  yes  \n",
       "3        3.0       0.0   F      yes   2.0        no   young   15   75.0  yes  \n",
       "4        2.0       0.0   F       no   3.0        no   young   16   50.0  yes  "
      ]
     },
     "execution_count": 34,
     "metadata": {},
     "output_type": "execute_result"
    }
   ],
   "source": [
    "data.head()"
   ]
  },
  {
   "cell_type": "markdown",
   "id": "3ad80783",
   "metadata": {},
   "source": [
    "# 7. Итоговый вывод <a name=\"7\"></a>"
   ]
  },
  {
   "cell_type": "markdown",
   "id": "3c0f34bb",
   "metadata": {},
   "source": [
    "#### В результате проведенного EDA можно сделать следующие заключения относительно датасета:\n",
    "1. Данные достаточно чистые:\n",
    "* количество пропущенных значений варьируется от 1% до 11%. Есть три переменные, в которых данные 100% заполнены;\n",
    "* ошибки обнаружены в переменных fedu, famrel и заменены на основе некоторых предположений исходя из здравого смысла;\n",
    "* переменная absences содержала 2 аномальных значения (>200), которые были заменены на медиану с целью сохранения информации, содержащейся в других предикторах.\n",
    "\n",
    "2. После подробного осмотра распределений, было решено:\n",
    "* создать признак наличия поддержки в общем виде - is_sup, который оказался незначимым в итоге;\n",
    "* создать дополнительную переменную - age_cat, объединяющую редких великовозрастных школьников в одну группу;\n",
    "* удалить пропуски из целевой переменной за ненадобностью;\n",
    "* оставить 0 значения в score для выяснения возможности моделирования в этих случаев.\n",
    "\n",
    "3. В результате корреляционного анализа:\n",
    "* обнаружена сильная обратная корреляция между studytime и studytime_granula, поэтому один из них был удален за ненадобностью;\n",
    "* обнаружена линейная зависимость между fedu и medu, которая была использована для создания нового значимого признака и взаимного восстановления пропусков;\n",
    "* экспертно исключены переменные с коэффициентом корреляции менее 0.1 по модулю, как самые бесперспективные на этапе EDA.\n",
    "\n",
    "4. Анализ номинативных и смешанных переменных с помощью boxplot- и t-test позволил выделить самые значимые признаки.\n",
    "\n",
    "#### Итоговый ответ:\n",
    "Для дальнейшего моделирования рекомендуется использовать параметры:"
   ]
  },
  {
   "cell_type": "code",
   "execution_count": 36,
   "id": "3881ac59",
   "metadata": {},
   "outputs": [
    {
     "data": {
      "text/plain": [
       "Index(['goout', 'school', 'mjob', 'medu', 'is_dad_teacher', 'fam_edu',\n",
       "       'higher', 'address', 'studytime', 'failures', 'sex', 'romantic', 'fedu',\n",
       "       'schoolsup', 'age_cat', 'age', 'score', 'paid'],\n",
       "      dtype='object')"
      ]
     },
     "execution_count": 36,
     "metadata": {},
     "output_type": "execute_result"
    }
   ],
   "source": [
    "data.columns"
   ]
  },
  {
   "cell_type": "code",
   "execution_count": null,
   "id": "f7774a7b",
   "metadata": {},
   "outputs": [],
   "source": []
  }
 ],
 "metadata": {
  "kernelspec": {
   "display_name": "Python 3",
   "language": "python",
   "name": "python3"
  },
  "language_info": {
   "codemirror_mode": {
    "name": "ipython",
    "version": 3
   },
   "file_extension": ".py",
   "mimetype": "text/x-python",
   "name": "python",
   "nbconvert_exporter": "python",
   "pygments_lexer": "ipython3",
   "version": "3.8.8"
  }
 },
 "nbformat": 4,
 "nbformat_minor": 5
}
